{
 "cells": [
  {
   "cell_type": "code",
   "execution_count": 17,
   "id": "7dd9042c",
   "metadata": {},
   "outputs": [
    {
     "name": "stdout",
     "output_type": "stream",
     "text": [
      "3\n",
      "krishna 67 68 69\n",
      "arjun 70 98 63\n",
      "Malika 52 56 60\n",
      "Malika\n",
      "{'krishna': [67.0, 68.0, 69.0], 'arjun': [70.0, 98.0, 63.0], 'Malika': [52.0, 56.0, 60.0]}\n"
     ]
    }
   ],
   "source": [
    "n = int(input())\n",
    "student_marks = {}\n",
    "for _ in range(n):\n",
    "    name, *line = input().split()\n",
    "    scores = list(map(float, line))\n",
    "    student_marks[name] = scores\n",
    "query_name = input()\n",
    "print(student_marks)"
   ]
  },
  {
   "cell_type": "code",
   "execution_count": null,
   "id": "c055442a",
   "metadata": {},
   "outputs": [],
   "source": [
    "3\n",
    "krishna 67 68 69\n",
    "arjun 70 98 63\n",
    "Malika 52 56 60\n",
    "Malika"
   ]
  },
  {
   "cell_type": "code",
   "execution_count": 46,
   "id": "3b6ba026",
   "metadata": {},
   "outputs": [
    {
     "name": "stdout",
     "output_type": "stream",
     "text": [
      "3\n",
      "Krishna 67 68 69\n",
      "arjun 70 98 63\n",
      "Malika 52 56 60\n",
      "Malika\n",
      "56.00\n"
     ]
    }
   ],
   "source": [
    "n = int(input())\n",
    "if 2<=n<=10:    \n",
    "    student_marks = {}\n",
    "    for _ in range(n):\n",
    "        name, *line = input().split()\n",
    "        scores = list(map(float, line))\n",
    "        student_marks[name] = scores\n",
    "    query_name = input()\n",
    "    val = (student_marks[query_name])\n",
    "    sum = 0\n",
    "    for i in range(len(val)):\n",
    "        sum += val[i]\n",
    "    average =sum/len(val)\n",
    "    print(\"%.2f\" % average)"
   ]
  },
  {
   "cell_type": "code",
   "execution_count": null,
   "id": "0ab98739",
   "metadata": {},
   "outputs": [],
   "source": [
    "'d' Signed integer decimal.  \n",
    "'i' Signed integer decimal.  \n",
    "'o' Signed octal value. (1)\n",
    "'u' Obsolete type – it is identical to 'd'. (7)\n",
    "'x' Signed hexadecimal (lowercase). (2)\n",
    "'X' Signed hexadecimal (uppercase). (2)\n",
    "'e' Floating point exponential format (lowercase).  (3)\n",
    "'E' Floating point exponential format (uppercase).  (3)\n",
    "'f' Floating point decimal format.  (3)\n",
    "'F' Floating point decimal format.  (3)\n",
    "'g' Floating point format. Uses lowercase exponential format if exponent is less than -4 or not less than precision, decimal format otherwise.  (4)\n",
    "'G' Floating point format. Uses uppercase exponential format if exponent is less than -4 or not less than precision, decimal format otherwise.  (4)\n",
    "'c' Single character (accepts integer or single character string).   \n",
    "'r' String (converts any Python object using repr()).   (5)\n",
    "'s' String (converts any Python object using str()).    (6)\n",
    "'%' No argument is converted, results in a '%' character in the result."
   ]
  },
  {
   "cell_type": "code",
   "execution_count": null,
   "id": "a8016e04",
   "metadata": {},
   "outputs": [],
   "source": [
    "3\n",
    "Krishna 67 68 69\n",
    "arjun 70 98 63\n",
    "Malika 52 56 60\n",
    "Malika\n",
    "56.00\n",
    "​"
   ]
  },
  {
   "cell_type": "markdown",
   "id": "5ba30ef8",
   "metadata": {},
   "source": [
    "## Lists"
   ]
  },
  {
   "cell_type": "code",
   "execution_count": 3,
   "id": "ab9be79f",
   "metadata": {},
   "outputs": [
    {
     "name": "stdout",
     "output_type": "stream",
     "text": [
      "['zero', 'one', 'two', 'three']\n"
     ]
    }
   ],
   "source": [
    "myList = ['one', 'two', 'three']\n",
    "myList.insert(0, 'zero')\n",
    "print(myList)"
   ]
  },
  {
   "cell_type": "code",
   "execution_count": 4,
   "id": "b12d5979",
   "metadata": {},
   "outputs": [
    {
     "name": "stdout",
     "output_type": "stream",
     "text": [
      "[5]\n"
     ]
    }
   ],
   "source": [
    "my_list = []\n",
    "num_input = [0, 5]\n",
    "index = num_input[0]\n",
    "element = num_input[1]\n",
    "my_list.insert(index, element)\n",
    "print(my_list)"
   ]
  },
  {
   "cell_type": "code",
   "execution_count": 27,
   "id": "be20506a",
   "metadata": {},
   "outputs": [
    {
     "name": "stdout",
     "output_type": "stream",
     "text": [
      "5\n",
      "append 9\n",
      "[9]\n",
      "insert 0 5\n",
      "[5, 9]\n"
     ]
    },
    {
     "ename": "KeyboardInterrupt",
     "evalue": "Interrupted by user",
     "output_type": "error",
     "traceback": [
      "\u001b[1;31m---------------------------------------------------------------------------\u001b[0m",
      "\u001b[1;31mKeyboardInterrupt\u001b[0m                         Traceback (most recent call last)",
      "Input \u001b[1;32mIn [27]\u001b[0m, in \u001b[0;36m<cell line: 4>\u001b[1;34m()\u001b[0m\n\u001b[0;32m      2\u001b[0m my_list \u001b[38;5;241m=\u001b[39m []\n\u001b[0;32m      4\u001b[0m \u001b[38;5;28;01mfor\u001b[39;00m i \u001b[38;5;129;01min\u001b[39;00m \u001b[38;5;28mrange\u001b[39m(N):\n\u001b[1;32m----> 5\u001b[0m     command, \u001b[38;5;241m*\u001b[39mnum_1 \u001b[38;5;241m=\u001b[39m \u001b[38;5;28;43minput\u001b[39;49m\u001b[43m(\u001b[49m\u001b[43m)\u001b[49m\u001b[38;5;241m.\u001b[39msplit()\n\u001b[0;32m      6\u001b[0m     \u001b[38;5;28;01mif\u001b[39;00m command \u001b[38;5;241m==\u001b[39m \u001b[38;5;124m\"\u001b[39m\u001b[38;5;124minsert\u001b[39m\u001b[38;5;124m\"\u001b[39m:\n\u001b[0;32m      7\u001b[0m         my_list\u001b[38;5;241m.\u001b[39minsert(\u001b[38;5;28mint\u001b[39m(num_1[\u001b[38;5;241m0\u001b[39m]), \u001b[38;5;28mint\u001b[39m(num_1[\u001b[38;5;241m1\u001b[39m]))\n",
      "File \u001b[1;32m~\\anaconda3\\lib\\site-packages\\ipykernel\\kernelbase.py:1177\u001b[0m, in \u001b[0;36mKernel.raw_input\u001b[1;34m(self, prompt)\u001b[0m\n\u001b[0;32m   1173\u001b[0m \u001b[38;5;28;01mif\u001b[39;00m \u001b[38;5;129;01mnot\u001b[39;00m \u001b[38;5;28mself\u001b[39m\u001b[38;5;241m.\u001b[39m_allow_stdin:\n\u001b[0;32m   1174\u001b[0m     \u001b[38;5;28;01mraise\u001b[39;00m StdinNotImplementedError(\n\u001b[0;32m   1175\u001b[0m         \u001b[38;5;124m\"\u001b[39m\u001b[38;5;124mraw_input was called, but this frontend does not support input requests.\u001b[39m\u001b[38;5;124m\"\u001b[39m\n\u001b[0;32m   1176\u001b[0m     )\n\u001b[1;32m-> 1177\u001b[0m \u001b[38;5;28;01mreturn\u001b[39;00m \u001b[38;5;28;43mself\u001b[39;49m\u001b[38;5;241;43m.\u001b[39;49m\u001b[43m_input_request\u001b[49m\u001b[43m(\u001b[49m\n\u001b[0;32m   1178\u001b[0m \u001b[43m    \u001b[49m\u001b[38;5;28;43mstr\u001b[39;49m\u001b[43m(\u001b[49m\u001b[43mprompt\u001b[49m\u001b[43m)\u001b[49m\u001b[43m,\u001b[49m\n\u001b[0;32m   1179\u001b[0m \u001b[43m    \u001b[49m\u001b[38;5;28;43mself\u001b[39;49m\u001b[38;5;241;43m.\u001b[39;49m\u001b[43m_parent_ident\u001b[49m\u001b[43m[\u001b[49m\u001b[38;5;124;43m\"\u001b[39;49m\u001b[38;5;124;43mshell\u001b[39;49m\u001b[38;5;124;43m\"\u001b[39;49m\u001b[43m]\u001b[49m\u001b[43m,\u001b[49m\n\u001b[0;32m   1180\u001b[0m \u001b[43m    \u001b[49m\u001b[38;5;28;43mself\u001b[39;49m\u001b[38;5;241;43m.\u001b[39;49m\u001b[43mget_parent\u001b[49m\u001b[43m(\u001b[49m\u001b[38;5;124;43m\"\u001b[39;49m\u001b[38;5;124;43mshell\u001b[39;49m\u001b[38;5;124;43m\"\u001b[39;49m\u001b[43m)\u001b[49m\u001b[43m,\u001b[49m\n\u001b[0;32m   1181\u001b[0m \u001b[43m    \u001b[49m\u001b[43mpassword\u001b[49m\u001b[38;5;241;43m=\u001b[39;49m\u001b[38;5;28;43;01mFalse\u001b[39;49;00m\u001b[43m,\u001b[49m\n\u001b[0;32m   1182\u001b[0m \u001b[43m\u001b[49m\u001b[43m)\u001b[49m\n",
      "File \u001b[1;32m~\\anaconda3\\lib\\site-packages\\ipykernel\\kernelbase.py:1219\u001b[0m, in \u001b[0;36mKernel._input_request\u001b[1;34m(self, prompt, ident, parent, password)\u001b[0m\n\u001b[0;32m   1216\u001b[0m             \u001b[38;5;28;01mbreak\u001b[39;00m\n\u001b[0;32m   1217\u001b[0m \u001b[38;5;28;01mexcept\u001b[39;00m \u001b[38;5;167;01mKeyboardInterrupt\u001b[39;00m:\n\u001b[0;32m   1218\u001b[0m     \u001b[38;5;66;03m# re-raise KeyboardInterrupt, to truncate traceback\u001b[39;00m\n\u001b[1;32m-> 1219\u001b[0m     \u001b[38;5;28;01mraise\u001b[39;00m \u001b[38;5;167;01mKeyboardInterrupt\u001b[39;00m(\u001b[38;5;124m\"\u001b[39m\u001b[38;5;124mInterrupted by user\u001b[39m\u001b[38;5;124m\"\u001b[39m) \u001b[38;5;28;01mfrom\u001b[39;00m \u001b[38;5;28mNone\u001b[39m\n\u001b[0;32m   1220\u001b[0m \u001b[38;5;28;01mexcept\u001b[39;00m \u001b[38;5;167;01mException\u001b[39;00m:\n\u001b[0;32m   1221\u001b[0m     \u001b[38;5;28mself\u001b[39m\u001b[38;5;241m.\u001b[39mlog\u001b[38;5;241m.\u001b[39mwarning(\u001b[38;5;124m\"\u001b[39m\u001b[38;5;124mInvalid Message:\u001b[39m\u001b[38;5;124m\"\u001b[39m, exc_info\u001b[38;5;241m=\u001b[39m\u001b[38;5;28;01mTrue\u001b[39;00m)\n",
      "\u001b[1;31mKeyboardInterrupt\u001b[0m: Interrupted by user"
     ]
    },
    {
     "name": "stdout",
     "output_type": "stream",
     "text": [
      "54\n"
     ]
    }
   ],
   "source": [
    "N = int(input())\n",
    "my_list = []\n",
    "\n",
    "for i in range(N):\n",
    "    command, *num_1 = input().split()\n",
    "    if command == \"insert\":\n",
    "        my_list.insert(int(num_1[0]), int(num_1[1]))\n",
    "    elif command == \"append\":\n",
    "        my_list.append(int(num_1[0]))\n",
    "    print(my_list)"
   ]
  },
  {
   "cell_type": "code",
   "execution_count": 33,
   "id": "a291e744",
   "metadata": {},
   "outputs": [
    {
     "name": "stdout",
     "output_type": "stream",
     "text": [
      "12\n",
      "insert 0 5\n",
      "insert 1 10\n",
      "pop\n",
      "reverse\n",
      "sort\n",
      "append 9\n",
      "append 1\n",
      "sort\n",
      "append 9\n",
      "+56\n",
      "87652\n",
      "87463\n"
     ]
    }
   ],
   "source": [
    "N = int(input())\n",
    "my_list = []\n",
    "\n",
    "for i in range(N):\n",
    "    command, *num_input = input().split()\n",
    "   \n",
    "    if command == \"insert\":\n",
    "        my_list.insert(int(num_input[0]), int(num_input[1]))\n",
    "        \n",
    "    elif command == \"remove\":\n",
    "        my_list.remove(int(num_input[0]))\n",
    "        \n",
    "    elif command == \"append\":\n",
    "        my_list.append(int(num_input[0]))\n",
    "        \n",
    "    elif command == \"sort\":\n",
    "        my_list.sort()\n",
    "    \n",
    "    elif command == \"print\":\n",
    "        print(my_list)\n",
    "        \n",
    "    elif command == \"pop\":\n",
    "        my_list.pop()\n",
    "        \n",
    "    elif command == \"reverse\":\n",
    "        my_list.reverse()\n",
    "    "
   ]
  },
  {
   "cell_type": "code",
   "execution_count": null,
   "id": "f6078138",
   "metadata": {},
   "outputs": [],
   "source": [
    "12\n",
    "insert 0 5\n",
    "insert 1 10\n",
    "insert 0 6\n",
    "print\n",
    "remove 6\n",
    "append 9\n",
    "append 1\n",
    "sort\n",
    "print\n",
    "pop\n",
    "reverse\n",
    "print"
   ]
  },
  {
   "cell_type": "markdown",
   "id": "2c9ca725",
   "metadata": {},
   "source": [
    "## Tuples"
   ]
  },
  {
   "cell_type": "code",
   "execution_count": 4,
   "id": "e41a4f90",
   "metadata": {},
   "outputs": [
    {
     "name": "stdout",
     "output_type": "stream",
     "text": [
      "-5659871693760987716\n"
     ]
    }
   ],
   "source": [
    "a_list = [1,2,3,4,5]\n",
    "\n",
    "tup_a = tuple(a_list)\n",
    "\n",
    "hash_a = hash(tup_a)\n",
    "print(hash_a)"
   ]
  },
  {
   "cell_type": "code",
   "execution_count": 7,
   "id": "e76665f3",
   "metadata": {},
   "outputs": [
    {
     "name": "stdout",
     "output_type": "stream",
     "text": [
      "2\n",
      "1 2\n"
     ]
    },
    {
     "data": {
      "text/plain": [
       "-3550055125485641917"
      ]
     },
     "execution_count": 7,
     "metadata": {},
     "output_type": "execute_result"
    }
   ],
   "source": [
    "def tuple_hash(n, integer_list):\n",
    "    n = int(input())\n",
    "    integer_list = map(int, input().split())\n",
    "    tuple_int_list = tuple(integer_list)\n",
    "    hash_tuple = hash(tuple_int_list)\n",
    "    return hash_tuple\n",
    "\n",
    "\n",
    "tuple_hash(n, integer_list)"
   ]
  },
  {
   "cell_type": "code",
   "execution_count": 8,
   "id": "66b8092a",
   "metadata": {},
   "outputs": [
    {
     "name": "stdout",
     "output_type": "stream",
     "text": [
      "2\n",
      "1 2\n"
     ]
    },
    {
     "data": {
      "text/plain": [
       "-3550055125485641917"
      ]
     },
     "execution_count": 8,
     "metadata": {},
     "output_type": "execute_result"
    }
   ],
   "source": [
    "def tuple_hash(n, integer_list):\n",
    "    n = int(input())\n",
    "    integer_list = map(int, input().split())\n",
    "    tuple_int_list = tuple(integer_list)\n",
    "    hash_tuple = hash(tuple_int_list)\n",
    "    return hash_tuple\n",
    "\n",
    "\n",
    "tuple_hash(n, integer_list)"
   ]
  },
  {
   "cell_type": "code",
   "execution_count": 15,
   "id": "15e2ad89",
   "metadata": {},
   "outputs": [
    {
     "name": "stdout",
     "output_type": "stream",
     "text": [
      "pREETHaM gOWthAm\n"
     ]
    }
   ],
   "source": [
    "s = \"PreethAm GowTHaM\"\n",
    "swap_case = \"\"\n",
    "for i in s:\n",
    "    if i.isupper():\n",
    "        i.lower()\n",
    "        swap_case = swap_case + i\n",
    "    elif i.islower():\n",
    "        i.upper()\n",
    "        swap_case = swap_case + i\n",
    "    else:\n",
    "        swap_case = swap_case + i\n",
    "print(swap_case)    "
   ]
  },
  {
   "cell_type": "code",
   "execution_count": 11,
   "id": "8498cfad",
   "metadata": {},
   "outputs": [
    {
     "data": {
      "text/plain": [
       "False"
      ]
     },
     "execution_count": 11,
     "metadata": {},
     "output_type": "execute_result"
    }
   ],
   "source": [
    "a = \"abcd\"\n",
    "\n",
    "a.isupper()"
   ]
  },
  {
   "cell_type": "code",
   "execution_count": 12,
   "id": "f19e4722",
   "metadata": {},
   "outputs": [
    {
     "data": {
      "text/plain": [
       "'abc'"
      ]
     },
     "execution_count": 12,
     "metadata": {},
     "output_type": "execute_result"
    }
   ],
   "source": [
    "a = \"ABC\"\n",
    "\n",
    "a.lower()"
   ]
  },
  {
   "cell_type": "code",
   "execution_count": 16,
   "id": "89aa29fb",
   "metadata": {},
   "outputs": [
    {
     "name": "stdout",
     "output_type": "stream",
     "text": [
      "pREETHaM gOWthAm\n"
     ]
    }
   ],
   "source": [
    "s = \"PreethAm GowTHaM\"\n",
    "swap_case = \"\"\n",
    "for i in s:\n",
    "    if i.isupper():\n",
    "        swap_case = swap_case + i.lower()\n",
    "    elif i.islower():\n",
    "        swap_case = swap_case + i.upper()\n",
    "    else:\n",
    "        swap_case = swap_case + i\n",
    "print(swap_case)    "
   ]
  },
  {
   "cell_type": "code",
   "execution_count": 19,
   "id": "c3bb0cd6",
   "metadata": {},
   "outputs": [
    {
     "name": "stdout",
     "output_type": "stream",
     "text": [
      "PreeTHaM HaI\n"
     ]
    },
    {
     "data": {
      "text/plain": [
       "'pREEthAm hAi'"
      ]
     },
     "execution_count": 19,
     "metadata": {},
     "output_type": "execute_result"
    }
   ],
   "source": [
    "def swap_case(s):\n",
    "    swap_case = \"\"\n",
    "    for i in s:\n",
    "        if i.isupper():\n",
    "            swap_case = swap_case + i.lower()\n",
    "        elif i.islower():\n",
    "            swap_case = swap_case + i.upper()\n",
    "        else:\n",
    "            swap_case = swap_case + i\n",
    "    return swap_case\n",
    "\n",
    "s = input()\n",
    "swap_case(s)"
   ]
  },
  {
   "cell_type": "code",
   "execution_count": 2,
   "id": "07be3e99",
   "metadata": {},
   "outputs": [
    {
     "name": "stdout",
     "output_type": "stream",
     "text": [
      "this-is-a-string\n"
     ]
    }
   ],
   "source": [
    "a = \"this is a string\"\n",
    "a = a.split(\" \")\n",
    "a = \"-\".join(a)\n",
    "print(a)"
   ]
  },
  {
   "cell_type": "code",
   "execution_count": 2,
   "id": "525ceec5",
   "metadata": {},
   "outputs": [
    {
     "name": "stdout",
     "output_type": "stream",
     "text": [
      "as\n",
      "dffg\n",
      "Hello as dffg! You just delved into python.\n"
     ]
    }
   ],
   "source": [
    "def print_full_name(first, last):\n",
    "    sentence = \"Hello {} {}! You just delved into python.\".format(first, last)\n",
    "    print(sentence)\n",
    "   \n",
    "\n",
    "first_name = input()\n",
    "last_name = input()\n",
    "print_full_name(first_name, last_name)"
   ]
  },
  {
   "cell_type": "code",
   "execution_count": 15,
   "id": "461ef447",
   "metadata": {},
   "outputs": [
    {
     "name": "stdout",
     "output_type": "stream",
     "text": [
      "abcdefg\n",
      "4 k\n",
      "abcdkfg\n"
     ]
    }
   ],
   "source": [
    "s = input()\n",
    "i, c = input().split()\n",
    "\n",
    "string = s[:int(i)] + c + s[int(i)+1:]\n",
    "print(string)"
   ]
  },
  {
   "cell_type": "code",
   "execution_count": 9,
   "id": "069fc063",
   "metadata": {},
   "outputs": [
    {
     "name": "stdout",
     "output_type": "stream",
     "text": [
      "{'p', 'a', 't', 'r'}\n",
      "{'p', 'a', 't', 'r'}\n",
      "YES\n"
     ]
    }
   ],
   "source": [
    "a = 'part'\n",
    "b = 'trap'\n",
    "\n",
    "print(set(a))\n",
    "print(set(b))\n",
    "\n",
    "if set(a) == set(b):\n",
    "    print(\"YES\")\n",
    "else:\n",
    "    print('NO')\n"
   ]
  },
  {
   "cell_type": "code",
   "execution_count": 13,
   "id": "0b42561c",
   "metadata": {
    "scrolled": true
   },
   "outputs": [
    {
     "name": "stdout",
     "output_type": "stream",
     "text": [
      "jhg\n"
     ]
    },
    {
     "ename": "ValueError",
     "evalue": "invalid literal for int() with base 10: 'jhg'",
     "output_type": "error",
     "traceback": [
      "\u001b[1;31m---------------------------------------------------------------------------\u001b[0m",
      "\u001b[1;31mValueError\u001b[0m                                Traceback (most recent call last)",
      "Input \u001b[1;32mIn [13]\u001b[0m, in \u001b[0;36m<cell line: 1>\u001b[1;34m()\u001b[0m\n\u001b[1;32m----> 1\u001b[0m n \u001b[38;5;241m=\u001b[39m \u001b[38;5;28;43mint\u001b[39;49m\u001b[43m(\u001b[49m\u001b[38;5;28;43minput\u001b[39;49m\u001b[43m(\u001b[49m\u001b[43m)\u001b[49m\u001b[43m)\u001b[49m\n\u001b[0;32m      2\u001b[0m res \u001b[38;5;241m=\u001b[39m \u001b[38;5;124m'\u001b[39m\u001b[38;5;124m'\u001b[39m\n\u001b[0;32m      3\u001b[0m \u001b[38;5;28;01mfor\u001b[39;00m i \u001b[38;5;129;01min\u001b[39;00m \u001b[38;5;28mrange\u001b[39m(n):\n",
      "\u001b[1;31mValueError\u001b[0m: invalid literal for int() with base 10: 'jhg'"
     ]
    }
   ],
   "source": [
    "n = int(input())\n",
    "res = ''\n",
    "for i in range(n):\n",
    "    word_1, word_2 = input().split()\n",
    "    if set(word_1) == set(word_2):\n",
    "        res += \"YES\" + \" \"\n",
    "    else:\n",
    "        res += 'NO' + \" \"\n",
    "print(res)\n",
    "        \n",
    "        \n",
    "#     print(word_1)\n",
    "#     print(word_2)"
   ]
  },
  {
   "cell_type": "code",
   "execution_count": 4,
   "id": "289ad01c",
   "metadata": {},
   "outputs": [
    {
     "name": "stdout",
     "output_type": "stream",
     "text": [
      "2\n"
     ]
    }
   ],
   "source": [
    "string = 'abcdcdc'\n",
    "sub_string = 'cdc'\n",
    "count = 0\n",
    "for i in range(len(string)):\n",
    "    slice_string = string[i:i+len(sub_string)]\n",
    "    if slice_string == sub_string:\n",
    "        count += 1 \n",
    "print(count)\n"
   ]
  },
  {
   "cell_type": "code",
   "execution_count": 7,
   "id": "f3564c17",
   "metadata": {},
   "outputs": [
    {
     "name": "stdout",
     "output_type": "stream",
     "text": [
      "True\n",
      "True\n",
      "True\n",
      "True\n",
      "True\n"
     ]
    }
   ],
   "source": [
    "s = 'qA2'\n",
    "print(s.isalnum())\n",
    "print(any(letter.isalpha() for letter in s))\n",
    "print(any(number.isdigit() for number in s))\n",
    "print(any(letter.islower() for letter in s))\n",
    "print(any(letter.isupper()for letter in s))"
   ]
  },
  {
   "cell_type": "code",
   "execution_count": 3,
   "id": "97d2e625",
   "metadata": {},
   "outputs": [
    {
     "data": {
      "text/plain": [
       "<re.Match object; span=(0, 1), match='q'>"
      ]
     },
     "execution_count": 3,
     "metadata": {},
     "output_type": "execute_result"
    }
   ],
   "source": [
    "import re\n",
    "\n",
    "the_string = 'qA2'\n",
    "re.search('[a-zA-Z]', the_string)"
   ]
  },
  {
   "cell_type": "code",
   "execution_count": 1,
   "id": "10edfcc6",
   "metadata": {},
   "outputs": [
    {
     "name": "stdout",
     "output_type": "stream",
     "text": [
      "Hacker Rank---------\n"
     ]
    }
   ],
   "source": [
    "width = 20 \n",
    "print(\"Hacker Rank\".ljust(width, '-'))"
   ]
  },
  {
   "cell_type": "code",
   "execution_count": 2,
   "id": "06c281ee",
   "metadata": {},
   "outputs": [
    {
     "name": "stdout",
     "output_type": "stream",
     "text": [
      "----Hacker Rank-----\n"
     ]
    }
   ],
   "source": [
    "width = 20 \n",
    "print(\"Hacker Rank\".center(width, '-'))"
   ]
  },
  {
   "cell_type": "code",
   "execution_count": 3,
   "id": "01045b78",
   "metadata": {},
   "outputs": [
    {
     "name": "stdout",
     "output_type": "stream",
     "text": [
      "---------Hacker Rank\n"
     ]
    }
   ],
   "source": [
    "width = 20 \n",
    "print(\"Hacker Rank\".rjust(width, '-'))"
   ]
  },
  {
   "cell_type": "code",
   "execution_count": 27,
   "id": "368b0fd9",
   "metadata": {},
   "outputs": [
    {
     "name": "stdout",
     "output_type": "stream",
     "text": [
      "5\n",
      "    H    \n",
      "   HHH   \n",
      "  HHHHH  \n",
      " HHHHHHH \n",
      "HHHHHHHHH\n",
      "  HHHHH               HHHHH             \n",
      "  HHHHH               HHHHH             \n",
      "  HHHHH               HHHHH             \n",
      "  HHHHH               HHHHH             \n",
      "  HHHHH               HHHHH             \n",
      "  HHHHH               HHHHH             \n",
      "  HHHHHHHHHHHHHHHHHHHHHHHHH   \n",
      "  HHHHHHHHHHHHHHHHHHHHHHHHH   \n",
      "  HHHHHHHHHHHHHHHHHHHHHHHHH   \n",
      "  HHHHH               HHHHH             \n",
      "  HHHHH               HHHHH             \n",
      "  HHHHH               HHHHH             \n",
      "  HHHHH               HHHHH             \n",
      "  HHHHH               HHHHH             \n",
      "  HHHHH               HHHHH             \n",
      "                    HHHHHHHHH \n",
      "                     HHHHHHH  \n",
      "                      HHHHH   \n",
      "                       HHH    \n",
      "                        H     \n"
     ]
    }
   ],
   "source": [
    "thickness = int(input()) #This must be an odd number\n",
    "c = 'H'\n",
    "\n",
    "#Top Cone\n",
    "for i in range(thickness):\n",
    "    print((c*i).rjust(thickness-1)+c+(c*i).ljust(thickness-1))\n",
    "\n",
    "#Top Pillars\n",
    "for i in range(thickness+1):\n",
    "    print((c*thickness).center(thickness*2)+(c*thickness).center(thickness*6))\n",
    "\n",
    "#Middle Belt\n",
    "for i in range((thickness+1)//2):\n",
    "    print((c*thickness*5).center(thickness*6))    \n",
    "\n",
    "#Bottom Pillars\n",
    "for i in range(thickness+1):\n",
    "    print((c*thickness).center(thickness*2)+(c*thickness).center(thickness*6))    \n",
    "\n",
    "#Bottom Cone\n",
    "for i in range(thickness):\n",
    "    print(((c*(thickness-i-1)).rjust(thickness)+c+(c*(thickness-i-1)).ljust(thickness)).rjust(thickness*6))\n"
   ]
  },
  {
   "cell_type": "code",
   "execution_count": 28,
   "id": "c08557d9",
   "metadata": {},
   "outputs": [
    {
     "name": "stdout",
     "output_type": "stream",
     "text": [
      "    H    \n",
      "   HHH   \n",
      "  HHHHH  \n",
      " HHHHHHH \n",
      "HHHHHHHHH\n"
     ]
    }
   ],
   "source": [
    "thickness = 5 #This must be an odd number\n",
    "c = 'H'\n",
    "\n",
    "#Top Cone\n",
    "for i in range(thickness):\n",
    "    print((c*i).rjust(thickness-1)+c+(c*i).ljust(thickness-1))"
   ]
  },
  {
   "cell_type": "code",
   "execution_count": 29,
   "id": "56c5808d",
   "metadata": {},
   "outputs": [
    {
     "name": "stdout",
     "output_type": "stream",
     "text": [
      "  HHHHH               HHHHH             \n",
      "  HHHHH               HHHHH             \n",
      "  HHHHH               HHHHH             \n",
      "  HHHHH               HHHHH             \n",
      "  HHHHH               HHHHH             \n",
      "  HHHHH               HHHHH             \n"
     ]
    }
   ],
   "source": [
    "thickness = 5 #This must be an odd number\n",
    "c = 'H'\n",
    "\n",
    "#Top Pillars\n",
    "for i in range(thickness+1):\n",
    "    print((c*thickness).center(thickness*2)+(c*thickness).center(thickness*6))"
   ]
  },
  {
   "cell_type": "markdown",
   "id": "2734b818",
   "metadata": {},
   "source": [
    "## Text wrap"
   ]
  },
  {
   "cell_type": "code",
   "execution_count": 5,
   "id": "1e5f850b",
   "metadata": {},
   "outputs": [
    {
     "name": "stdout",
     "output_type": "stream",
     "text": [
      "ABCD\n",
      "EFGH\n",
      "IJKL\n",
      "IMNO\n",
      "QRST\n",
      "UVWX\n",
      "YZ\n"
     ]
    }
   ],
   "source": [
    "import textwrap\n",
    "\n",
    "string = \"ABCDEFGHIJKLIMNOQRSTUVWXYZ\"\n",
    "max_width = 4\n",
    "\n",
    "wrapper = textwrap.TextWrapper(width=4)\n",
    "word_list = wrapper.wrap(text = string)\n",
    "# print(word_list)\n",
    "for each_word_wrap in word_list:\n",
    "    print(each_word_wrap)"
   ]
  },
  {
   "cell_type": "code",
   "execution_count": 2,
   "id": "10157575",
   "metadata": {},
   "outputs": [
    {
     "name": "stdout",
     "output_type": "stream",
     "text": [
      "ABCD\n",
      "EFGH\n",
      "IJKL\n",
      "IMNO\n",
      "QRST\n",
      "UVWX\n",
      "YZ\n"
     ]
    }
   ],
   "source": [
    "import textwrap\n",
    "\n",
    "string = \"ABCDEFGHIJKLIMNOQRSTUVWXYZ\"\n",
    "max_width = 4\n",
    "\n",
    "wrapper = textwrap.TextWrapper(width=4).wrap(text = string)\n",
    "# word_list = wrapper.wrap(text = string)\n",
    "# print(word_list)\n",
    "for each_word_wrap in wrapper: #word_list:\n",
    "    print(each_word_wrap)"
   ]
  },
  {
   "cell_type": "code",
   "execution_count": 16,
   "id": "d4707681",
   "metadata": {},
   "outputs": [
    {
     "name": "stdout",
     "output_type": "stream",
     "text": [
      "---------.|.---------\n",
      "------.|..|..|.------\n",
      "---.|..|..|..|..|.---\n",
      "-------WELCOME-------\n",
      "---.|..|..|..|..|.---\n",
      "------.|..|..|.------\n",
      "---------.|.---------\n"
     ]
    }
   ],
   "source": [
    "# Enter your code here. Read input from STDIN. Print output to STDOUT\n",
    "\n",
    "n= 7\n",
    "m = 21\n",
    "\n",
    "if n%2 == 1 and m == 3*n:\n",
    "    \n",
    "    for line in range(1, (n//2 + 1)):\n",
    "        design_num = (line*2-1)\n",
    "        left_right_pattern = m - 3*design_num\n",
    "        print(\"-\"*(left_right_pattern//2) + \".|.\"*(design_num) + \"-\"*(left_right_pattern//2))\n",
    "\n",
    "    print(\"-\"*((m-7)//2) + \"WELCOME\" + \"-\"*((m-7)//2))\n",
    "\n",
    "    for line in range(n//2, 0, -1):\n",
    "        design_num = (line*2-1)\n",
    "        left_right_pattern = m - 3*design_num\n",
    "        print(\"-\"*(left_right_pattern//2) + \".|.\"*(design_num) + \"-\"*(left_right_pattern//2))\n",
    "\n",
    "\n",
    "# n, m = map(int, input().split(' '))\n",
    "# a = Vincent_pattern(n, m)\n",
    "# print(a)"
   ]
  },
  {
   "cell_type": "code",
   "execution_count": 18,
   "id": "7d43915b",
   "metadata": {},
   "outputs": [
    {
     "name": "stdout",
     "output_type": "stream",
     "text": [
      "11 33\n",
      "-------------WELCOME-------------\n"
     ]
    },
    {
     "ename": "TypeError",
     "evalue": "can only concatenate str (not \"NoneType\") to str",
     "output_type": "error",
     "traceback": [
      "\u001b[1;31m---------------------------------------------------------------------------\u001b[0m",
      "\u001b[1;31mTypeError\u001b[0m                                 Traceback (most recent call last)",
      "Input \u001b[1;32mIn [18]\u001b[0m, in \u001b[0;36m<cell line: 22>\u001b[1;34m()\u001b[0m\n\u001b[0;32m     19\u001b[0m     \u001b[38;5;28;01mreturn\u001b[39;00m result\n\u001b[0;32m     21\u001b[0m n, m \u001b[38;5;241m=\u001b[39m \u001b[38;5;28mmap\u001b[39m(\u001b[38;5;28mint\u001b[39m, \u001b[38;5;28minput\u001b[39m()\u001b[38;5;241m.\u001b[39msplit(\u001b[38;5;124m'\u001b[39m\u001b[38;5;124m \u001b[39m\u001b[38;5;124m'\u001b[39m))\n\u001b[1;32m---> 22\u001b[0m a \u001b[38;5;241m=\u001b[39m \u001b[43mVincent_pattern\u001b[49m\u001b[43m(\u001b[49m\u001b[43mn\u001b[49m\u001b[43m,\u001b[49m\u001b[43m \u001b[49m\u001b[43mm\u001b[49m\u001b[43m)\u001b[49m\n\u001b[0;32m     23\u001b[0m \u001b[38;5;28mprint\u001b[39m(a)\n",
      "Input \u001b[1;32mIn [18]\u001b[0m, in \u001b[0;36mVincent_pattern\u001b[1;34m(n, m)\u001b[0m\n\u001b[0;32m      9\u001b[0m     left_right_pattern \u001b[38;5;241m=\u001b[39m m \u001b[38;5;241m-\u001b[39m \u001b[38;5;241m3\u001b[39m\u001b[38;5;241m*\u001b[39mdesign_num\n\u001b[0;32m     10\u001b[0m     result \u001b[38;5;241m=\u001b[39m result \u001b[38;5;241m+\u001b[39m \u001b[38;5;124m\"\u001b[39m\u001b[38;5;130;01m\\n\u001b[39;00m\u001b[38;5;124m\"\u001b[39m \u001b[38;5;241m+\u001b[39m \u001b[38;5;124m\"\u001b[39m\u001b[38;5;124m-\u001b[39m\u001b[38;5;124m\"\u001b[39m\u001b[38;5;241m*\u001b[39m(left_right_pattern\u001b[38;5;241m/\u001b[39m\u001b[38;5;241m/\u001b[39m\u001b[38;5;241m2\u001b[39m) \u001b[38;5;241m+\u001b[39m \u001b[38;5;124m\"\u001b[39m\u001b[38;5;124m.|.\u001b[39m\u001b[38;5;124m\"\u001b[39m\u001b[38;5;241m*\u001b[39m(design_num) \u001b[38;5;241m+\u001b[39m \u001b[38;5;124m\"\u001b[39m\u001b[38;5;124m-\u001b[39m\u001b[38;5;124m\"\u001b[39m\u001b[38;5;241m*\u001b[39m(left_right_pattern\u001b[38;5;241m/\u001b[39m\u001b[38;5;241m/\u001b[39m\u001b[38;5;241m2\u001b[39m)\n\u001b[1;32m---> 12\u001b[0m result \u001b[38;5;241m=\u001b[39m \u001b[43mresult\u001b[49m\u001b[43m \u001b[49m\u001b[38;5;241;43m+\u001b[39;49m\u001b[43m \u001b[49m\u001b[38;5;124;43m\"\u001b[39;49m\u001b[38;5;130;43;01m\\n\u001b[39;49;00m\u001b[38;5;124;43m\"\u001b[39;49m\u001b[43m \u001b[49m\u001b[38;5;241;43m+\u001b[39;49m\u001b[43m \u001b[49m\u001b[38;5;28;43mprint\u001b[39;49m\u001b[43m(\u001b[49m\u001b[38;5;124;43m\"\u001b[39;49m\u001b[38;5;124;43m-\u001b[39;49m\u001b[38;5;124;43m\"\u001b[39;49m\u001b[38;5;241;43m*\u001b[39;49m\u001b[43m(\u001b[49m\u001b[43m(\u001b[49m\u001b[43mm\u001b[49m\u001b[38;5;241;43m-\u001b[39;49m\u001b[38;5;241;43m7\u001b[39;49m\u001b[43m)\u001b[49m\u001b[38;5;241;43m/\u001b[39;49m\u001b[38;5;241;43m/\u001b[39;49m\u001b[38;5;241;43m2\u001b[39;49m\u001b[43m)\u001b[49m\u001b[43m \u001b[49m\u001b[38;5;241;43m+\u001b[39;49m\u001b[43m \u001b[49m\u001b[38;5;124;43m\"\u001b[39;49m\u001b[38;5;124;43mWELCOME\u001b[39;49m\u001b[38;5;124;43m\"\u001b[39;49m\u001b[43m \u001b[49m\u001b[38;5;241;43m+\u001b[39;49m\u001b[43m \u001b[49m\u001b[38;5;124;43m\"\u001b[39;49m\u001b[38;5;124;43m-\u001b[39;49m\u001b[38;5;124;43m\"\u001b[39;49m\u001b[38;5;241;43m*\u001b[39;49m\u001b[43m(\u001b[49m\u001b[43m(\u001b[49m\u001b[43mm\u001b[49m\u001b[38;5;241;43m-\u001b[39;49m\u001b[38;5;241;43m7\u001b[39;49m\u001b[43m)\u001b[49m\u001b[38;5;241;43m/\u001b[39;49m\u001b[38;5;241;43m/\u001b[39;49m\u001b[38;5;241;43m2\u001b[39;49m\u001b[43m)\u001b[49m\u001b[43m)\u001b[49m\n\u001b[0;32m     14\u001b[0m \u001b[38;5;28;01mfor\u001b[39;00m line \u001b[38;5;129;01min\u001b[39;00m \u001b[38;5;28mrange\u001b[39m(n\u001b[38;5;241m/\u001b[39m\u001b[38;5;241m/\u001b[39m\u001b[38;5;241m2\u001b[39m, \u001b[38;5;241m0\u001b[39m, \u001b[38;5;241m-\u001b[39m\u001b[38;5;241m1\u001b[39m):\n\u001b[0;32m     15\u001b[0m     design_num \u001b[38;5;241m=\u001b[39m (line\u001b[38;5;241m*\u001b[39m\u001b[38;5;241m2\u001b[39m\u001b[38;5;241m-\u001b[39m\u001b[38;5;241m1\u001b[39m)\n",
      "\u001b[1;31mTypeError\u001b[0m: can only concatenate str (not \"NoneType\") to str"
     ]
    }
   ],
   "source": [
    "# Enter your code here. Read input from STDIN. Print output to STDOUT\n",
    "\n",
    "\n",
    "def Vincent_pattern(n, m):\n",
    "    if n%2 == 1 and m == 3*n:\n",
    "        result = \"\"\n",
    "        for line in range(1, (n//2 + 1)):\n",
    "            design_num = (line*2-1)\n",
    "            left_right_pattern = m - 3*design_num\n",
    "            result = result + \"\\n\" + \"-\"*(left_right_pattern//2) + \".|.\"*(design_num) + \"-\"*(left_right_pattern//2)\n",
    "\n",
    "        result = result + \"\\n\" + print(\"-\"*((m-7)//2) + \"WELCOME\" + \"-\"*((m-7)//2))\n",
    "\n",
    "        for line in range(n//2, 0, -1):\n",
    "            design_num = (line*2-1)\n",
    "            left_right_pattern = m - 3*design_num\n",
    "            result = result + \"\\n\" + \"-\"*(left_right_pattern//2) + \".|.\"*(design_num) + \"-\"*(left_right_pattern//2)\n",
    "            \n",
    "    return result\n",
    "\n",
    "n, m = map(int, input().split(' '))\n",
    "a = Vincent_pattern(n, m)\n",
    "print(a)"
   ]
  },
  {
   "cell_type": "code",
   "execution_count": 2,
   "id": "8746a428",
   "metadata": {},
   "outputs": [
    {
     "name": "stdout",
     "output_type": "stream",
     "text": [
      "11 33\n",
      "---------------.|.---------------\n",
      "------------.|..|..|.------------\n",
      "---------.|..|..|..|..|.---------\n",
      "------.|..|..|..|..|..|..|.------\n",
      "---.|..|..|..|..|..|..|..|..|.---\n",
      "-------------WELCOME-------------\n",
      "---.|..|..|..|..|..|..|..|..|.---\n",
      "------.|..|..|..|..|..|..|.------\n",
      "---------.|..|..|..|..|.---------\n",
      "------------.|..|..|.------------\n",
      "---------------.|.---------------\n"
     ]
    }
   ],
   "source": [
    "n, m = map(int, input().split(' '))\n",
    "\n",
    "if n%2 == 1 and m == 3*n:\n",
    "    for i in range(1, (n//2 + 1)):\n",
    "        design = \".|.\"*(i*2-1)\n",
    "        pattern = design.center(m, \"-\")\n",
    "        print(pattern)\n",
    "    \n",
    "    mid_design = \"WELCOME\"\n",
    "    pattern = mid_design.center(m, \"-\")\n",
    "    print(pattern)\n",
    "\n",
    "    for i in range(n//2, 0, -1):\n",
    "        design = \".|.\"*(i*2-1)\n",
    "        pattern = design.center(m, \"-\")\n",
    "        print(pattern)\n",
    "\n"
   ]
  },
  {
   "cell_type": "code",
   "execution_count": 2,
   "id": "27c70318",
   "metadata": {},
   "outputs": [
    {
     "name": "stdout",
     "output_type": "stream",
     "text": [
      "1 1 1 1\n",
      "2 2 2 10\n",
      "3 3 3 11\n",
      "4 4 4 100\n",
      "5 5 5 101\n",
      "6 6 6 110\n",
      "7 7 7 111\n",
      "8 10 8 1000\n",
      "9 11 9 1001\n",
      "10 12 a 1010\n",
      "11 13 b 1011\n",
      "12 14 c 1100\n",
      "13 15 d 1101\n",
      "14 16 e 1110\n",
      "15 17 f 1111\n",
      "16 20 10 10000\n",
      "17 21 11 10001\n"
     ]
    }
   ],
   "source": [
    "number = 17\n",
    "for i in range(1, number+1):\n",
    "        decimal = i\n",
    "        octal = oct(i)[2:]\n",
    "        hexa_dec = hex(i)[2:]\n",
    "        binary = bin(i)[2:]\n",
    "        print(decimal, end =\" \") \n",
    "        print(octal, end =\" \") \n",
    "        print(hexa_dec, end =\" \") \n",
    "        print(binary)"
   ]
  },
  {
   "cell_type": "code",
   "execution_count": 6,
   "id": "46d12b2d",
   "metadata": {},
   "outputs": [
    {
     "name": "stdout",
     "output_type": "stream",
     "text": [
      "    1     1     1     1\n",
      "    2     2     2    10\n",
      "    3     3     3    11\n",
      "    4     4     4   100\n",
      "    5     5     5   101\n",
      "    6     6     6   110\n",
      "    7     7     7   111\n",
      "    8    10     8  1000\n",
      "    9    11     9  1001\n",
      "   10    12     A  1010\n",
      "   11    13     B  1011\n",
      "   12    14     C  1100\n",
      "   13    15     D  1101\n",
      "   14    16     E  1110\n",
      "   15    17     F  1111\n",
      "   16    20    10 10000\n",
      "   17    21    11 10001\n"
     ]
    }
   ],
   "source": [
    "# n = int(input().strip())\n",
    "n = 17\n",
    "w = len(str(bin(n))[2:])\n",
    "for i in range(1,n+1,1):\n",
    "    o = str(oct(i))[2:]\n",
    "    h = str(hex(i))[2:]\n",
    "    h = h.upper()\n",
    "    b = str(bin(i))[2:]\n",
    "    d = str(i)\n",
    "    print('{:>{width}} {:>{width}} {:>{width}} {:>{width}}'.format(d,o,h,b,width=w))"
   ]
  },
  {
   "cell_type": "code",
   "execution_count": 9,
   "id": "05435014",
   "metadata": {
    "scrolled": true
   },
   "outputs": [
    {
     "name": "stdout",
     "output_type": "stream",
     "text": [
      "17\n",
      "    1     1     1     1\n",
      "    2     2     2    10\n",
      "    3     3     3    11\n",
      "    4     4     4   100\n",
      "    5     5     5   101\n",
      "    6     6     6   110\n",
      "    7     7     7   111\n",
      "    8    10     8  1000\n",
      "    9    11     9  1001\n",
      "   10    12     A  1010\n",
      "   11    13     B  1011\n",
      "   12    14     C  1100\n",
      "   13    15     D  1101\n",
      "   14    16     E  1110\n",
      "   15    17     F  1111\n",
      "   16    20    10 10000\n",
      "   17    21    11 10001\n"
     ]
    }
   ],
   "source": [
    "n = int(input().strip())\n",
    "# n = 17\n",
    "w = len(str(bin(n))[2:])\n",
    "for i in range(1,n+1,1):\n",
    "    o = str(oct(i))[2:]\n",
    "    h = str(hex(i))[2:]\n",
    "    h = h.upper()\n",
    "    b = str(bin(i))[2:]\n",
    "    d = str(i)\n",
    "    print('{:>{width}} {:>{width}} {:>{width}} {:>{width}}'.format(d,o,h,b,width=w))"
   ]
  },
  {
   "cell_type": "code",
   "execution_count": 19,
   "id": "0534ec6d",
   "metadata": {},
   "outputs": [
    {
     "name": "stdout",
     "output_type": "stream",
     "text": [
      "10001\n"
     ]
    }
   ],
   "source": [
    "n = 17\n",
    "b = bin(n)[2:]\n",
    "w = len(b[2:])\n",
    "print(\"{:>{width}}\".format(b, width=w))"
   ]
  },
  {
   "cell_type": "code",
   "execution_count": 20,
   "id": "18639858",
   "metadata": {},
   "outputs": [
    {
     "name": "stdout",
     "output_type": "stream",
     "text": [
      "    1     1     1     1\n",
      "    2     2     2    10\n",
      "    3     3     3    11\n",
      "    4     4     4   100\n",
      "    5     5     5   101\n",
      "    6     6     6   110\n",
      "    7     7     7   111\n",
      "    8    10     8  1000\n",
      "    9    11     9  1001\n",
      "   10    12     A  1010\n",
      "   11    13     B  1011\n",
      "   12    14     C  1100\n",
      "   13    15     D  1101\n",
      "   14    16     E  1110\n",
      "   15    17     F  1111\n",
      "   16    20    10 10000\n",
      "   17    21    11 10001\n"
     ]
    }
   ],
   "source": [
    "number = 17\n",
    "width = len(\"{0:b}\".format(number))\n",
    "\n",
    "for i in range(1, number + 1):\n",
    "    print(\"{0:{w}d} {0:{w}o} {0:{w}X} {0:{w}b}\".format(i, w = width))"
   ]
  },
  {
   "cell_type": "code",
   "execution_count": null,
   "id": "cf2cde7a",
   "metadata": {},
   "outputs": [],
   "source": [
    "'d' Signed integer decimal.  \n",
    "'i' Signed integer decimal.  \n",
    "'o' Signed octal value. (1)\n",
    "'u' Obsolete type – it is identical to 'd'. (7)\n",
    "'x' Signed hexadecimal (lowercase). (2)\n",
    "'X' Signed hexadecimal (uppercase). (2)\n",
    "'e' Floating point exponential format (lowercase).  (3)\n",
    "'E' Floating point exponential format (uppercase).  (3)\n",
    "'f' Floating point decimal format.  (3)\n",
    "'F' Floating point decimal format.  (3)\n",
    "'g' Floating point format. Uses lowercase exponential format if exponent is less than -4 or not less than precision, decimal format otherwise.  (4)\n",
    "'G' Floating point format. Uses uppercase exponential format if exponent is less than -4 or not less than precision, decimal format otherwise.  (4)\n",
    "'c' Single character (accepts integer or single character string).   \n",
    "'r' String (converts any Python object using repr()).   (5)\n",
    "'s' String (converts any Python object using str()).    (6)\n",
    "'%' No argument is converted, results in a '%' character in the result."
   ]
  },
  {
   "cell_type": "code",
   "execution_count": 29,
   "id": "fc17a1ab",
   "metadata": {},
   "outputs": [
    {
     "name": "stdout",
     "output_type": "stream",
     "text": [
      "101\n"
     ]
    }
   ],
   "source": [
    "n = 5\n",
    "# print(\"{b}\".format(n))\n",
    "print(\"{:b}\".format(n))"
   ]
  },
  {
   "cell_type": "code",
   "execution_count": 30,
   "id": "9ef6863e",
   "metadata": {},
   "outputs": [
    {
     "name": "stdout",
     "output_type": "stream",
     "text": [
      "['a', 'b', 'c', 'd', 'e', 'f', 'g', 'h', 'i', 'j', 'k', 'l', 'm', 'n', 'o', 'p', 'q', 'r', 's', 't', 'u', 'v', 'w', 'x', 'y', 'z']\n"
     ]
    }
   ],
   "source": [
    "# Generate a list of the alphabet in Python with a for loop\n",
    "alphabet = []\n",
    "for i in range(97, 123):\n",
    "    alphabet.append(chr(i))\n",
    "\n",
    "print(alphabet)\n",
    "\n",
    "# Returns: ['a', 'b', 'c', 'd', 'e', 'f', 'g', 'h', 'i', 'j', 'k', 'l', 'm', 'n', 'o', 'p', 'q', 'r', 's', 't', 'u', 'v', 'w', 'x', 'y', 'z']"
   ]
  },
  {
   "cell_type": "code",
   "execution_count": 38,
   "id": "e32ea48c",
   "metadata": {},
   "outputs": [
    {
     "name": "stdout",
     "output_type": "stream",
     "text": [
      "----c----\n",
      "----b----\n",
      "----a----\n"
     ]
    }
   ],
   "source": [
    "n = 3\n",
    "width = 4*n-3        #(2*n - 1)*2 -1\n",
    "for i in range(n+96, 96,-1):\n",
    "    char = chr(i)\n",
    "    pattern = char.center(width, \"-\")\n",
    "    print(pattern)"
   ]
  },
  {
   "cell_type": "code",
   "execution_count": 39,
   "id": "1e46340f",
   "metadata": {},
   "outputs": [
    {
     "name": "stdout",
     "output_type": "stream",
     "text": [
      "----c----\n",
      "---bbb---\n",
      "--aaaaa--\n"
     ]
    }
   ],
   "source": [
    "n = 3\n",
    "width = 4*n-3        #(2*n - 1)*2 -1\n",
    "l=1\n",
    "for i in range(n+96, 96,-1):\n",
    "    char = chr(i)*(2*l-1)\n",
    "    pattern = char.center(width, \"-\")\n",
    "    print(pattern)\n",
    "    l = l+1"
   ]
  },
  {
   "cell_type": "code",
   "execution_count": 43,
   "id": "29b187dc",
   "metadata": {},
   "outputs": [
    {
     "name": "stdout",
     "output_type": "stream",
     "text": [
      "------d------\n",
      "----d-c-d----\n",
      "--d-c-b-c-d--\n"
     ]
    }
   ],
   "source": [
    "n = 4\n",
    "w = (n-1) * 2 + ((n * 2) - 1)\n",
    "#upper half\n",
    "for i in range(1,n,1):\n",
    "    number_of_letter = (i*2) - 1\n",
    "    s = ''\n",
    "    letter_value = 97 + n - 1\n",
    "    for i in range(0,number_of_letter):\n",
    "        if(i != 0):\n",
    "            s += '-' \n",
    "        s += chr(letter_value) \n",
    "        if(i<(number_of_letter-1) / 2):\n",
    "            letter_value = letter_value - 1\n",
    "        else:\n",
    "            letter_value = letter_value + 1            \n",
    "    print(s.center(w,'-'))"
   ]
  },
  {
   "cell_type": "code",
   "execution_count": 46,
   "id": "dbc2398b",
   "metadata": {},
   "outputs": [
    {
     "name": "stdout",
     "output_type": "stream",
     "text": [
      "------d------\n",
      "----d-c-c----\n",
      "--d-c-b-b-b--\n"
     ]
    }
   ],
   "source": [
    "n = 4\n",
    "w = (n-1) * 2 + ((n * 2) - 1)\n",
    "#upper half\n",
    "for i in range(1,n,1):\n",
    "    number_of_letter = (i*2) - 1\n",
    "    s = ''\n",
    "    letter_value = 97 + n - 1\n",
    "    for i in range(0,number_of_letter):\n",
    "        if(i != 0):\n",
    "            s += '-' \n",
    "        s += chr(letter_value) \n",
    "        if(i<(number_of_letter-1) / 2):\n",
    "            letter_value = letter_value - 1\n",
    "    print(s.center(w,'-'))"
   ]
  },
  {
   "cell_type": "code",
   "execution_count": 45,
   "id": "c58b7a5c",
   "metadata": {},
   "outputs": [
    {
     "name": "stdout",
     "output_type": "stream",
     "text": [
      "------d------\n",
      "----d-c-d----\n",
      "--d-c-b-c-d--\n",
      "d-c-b-a-b-c-d\n",
      "--d-c-b-c-d--\n",
      "----d-c-d----\n",
      "------d------\n"
     ]
    }
   ],
   "source": [
    "n = 4\n",
    "w = (n-1) * 2 + ((n * 2) - 1)\n",
    "for i in range(1,n,1):\n",
    "    number_of_letter = (i*2) - 1\n",
    "    s = ''\n",
    "    letter_value = 97 + n - 1\n",
    "    for i in range(0,number_of_letter):\n",
    "        if(i != 0):\n",
    "            s += '-' \n",
    "        s += chr(letter_value) \n",
    "        if(i<(number_of_letter-1) / 2):\n",
    "            letter_value = letter_value - 1\n",
    "        else:\n",
    "            letter_value = letter_value + 1            \n",
    "    print(s.center(w,'-'))\n",
    "    \n",
    "    \n",
    "#bottom half\n",
    "for i in range(n,0,-1):\n",
    "    number_of_letter = (i*2) - 1\n",
    "    s = ''\n",
    "    letter_value = 97 + n - 1\n",
    "    for i in range(0,number_of_letter):\n",
    "        if(i != 0):\n",
    "            s += '-' \n",
    "        s += chr(letter_value) \n",
    "        if(i<(number_of_letter-1) / 2):\n",
    "            letter_value = letter_value - 1\n",
    "        else:\n",
    "            letter_value = letter_value + 1            \n",
    "    print(s.center(w,'-'))"
   ]
  },
  {
   "cell_type": "code",
   "execution_count": 52,
   "id": "dd2021d7",
   "metadata": {},
   "outputs": [
    {
     "name": "stdout",
     "output_type": "stream",
     "text": [
      "4\n",
      "------d------\n",
      "----d-c-d----\n",
      "--d-c-b-c-d--\n",
      "d-c-b-a-b-c-d\n",
      "--d-c-b-c-d--\n",
      "----d-c-d----\n",
      "------d------\n"
     ]
    }
   ],
   "source": [
    "import string\n",
    "alpha = string.ascii_lowercase\n",
    "\n",
    "def print_rangoli(size):\n",
    "    lines = []\n",
    "    for row in range(size):\n",
    "        to_print = \"-\".join(alpha[row:size])\n",
    "        lines.append(to_print[::-1] + to_print[1:])\n",
    "    width = len(lines[0])\n",
    "    \n",
    "    for row in range(size-1, 0, -1):\n",
    "        print(lines[row].center(width, '-'))\n",
    "        \n",
    "    for row in range(size):\n",
    "        print(lines[row].center(width, '-'))\n",
    "\n",
    "size = int(input())\n",
    "print_rangoli(size)\n"
   ]
  },
  {
   "cell_type": "code",
   "execution_count": 54,
   "id": "70a6c1dd",
   "metadata": {},
   "outputs": [
    {
     "name": "stdout",
     "output_type": "stream",
     "text": [
      "4\n",
      "a-b-c-d\n",
      "['d-c-b-a-b-c-d']\n",
      "b-c-d\n",
      "['d-c-b-a-b-c-d', 'd-c-b-c-d']\n",
      "c-d\n",
      "['d-c-b-a-b-c-d', 'd-c-b-c-d', 'd-c-d']\n",
      "d\n",
      "['d-c-b-a-b-c-d', 'd-c-b-c-d', 'd-c-d', 'd']\n"
     ]
    }
   ],
   "source": [
    "size = int(input())\n",
    "lines = []\n",
    "for row in range(size):\n",
    "    to_print = \"-\".join(alpha[row:size])\n",
    "    print(to_print)\n",
    "    lines.append(to_print[::-1] + to_print[1:])\n",
    "    print(lines)\n",
    "width = len(lines[0])\n"
   ]
  },
  {
   "cell_type": "code",
   "execution_count": 81,
   "id": "f355deef",
   "metadata": {},
   "outputs": [
    {
     "name": "stdout",
     "output_type": "stream",
     "text": [
      "[0, 1, 2, 3, 2, 1, 0]\n",
      "['d']\n",
      "------d------\n",
      "['c', 'd']\n",
      "----d-c-d----\n",
      "['b', 'c', 'd']\n",
      "--d-c-b-c-d--\n",
      "['a', 'b', 'c', 'd']\n",
      "d-c-b-a-b-c-d\n",
      "['b', 'c', 'd']\n",
      "--d-c-b-c-d--\n",
      "['c', 'd']\n",
      "----d-c-d----\n",
      "['d']\n",
      "------d------\n"
     ]
    }
   ],
   "source": [
    "# your code goes here\n",
    "\n",
    "import string\n",
    "alphabet = string.ascii_lowercase\n",
    "\n",
    "selected_alpha = [alphabet[i] for i in range(size)]\n",
    "items = list(range(size))\n",
    "items = items[:-1]+items[::-1]\n",
    "print(items)\n",
    "for i in items:\n",
    "    pattern = selected_alpha[-(i+1):]\n",
    "    print(pattern)\n",
    "    row = pattern[::-1]+pattern[1:]\n",
    "    print(\"-\".join(row).center(4*n-3, \"-\"))"
   ]
  },
  {
   "cell_type": "code",
   "execution_count": null,
   "id": "e3be11c6",
   "metadata": {},
   "outputs": [],
   "source": [
    "n = 4\n",
    "lower = \"abcdefghijklmnopqrstuvwxyz\"\n",
    "for i in range(n):\n",
    "    "
   ]
  },
  {
   "cell_type": "code",
   "execution_count": null,
   "id": "44ba64eb",
   "metadata": {},
   "outputs": [],
   "source": [
    "swap case\n",
    "check if second word can be formed after rearranging first word"
   ]
  },
  {
   "cell_type": "code",
   "execution_count": null,
   "id": "a82682b8",
   "metadata": {},
   "outputs": [],
   "source": [
    "n = 2\n",
    "word_1 = \"noon\"\n",
    "word_2 = \"moon\"\n",
    "length = max(len(word_1), len(word_2))\n",
    "for i in range(length):\n",
    "#     print(word_1[i])\n",
    "    word_1[i] = word_1[i+1]\n",
    "    print(word_1)"
   ]
  },
  {
   "cell_type": "code",
   "execution_count": null,
   "id": "8fad6811",
   "metadata": {},
   "outputs": [],
   "source": [
    "n = int(input())\n",
    "res = ''\n",
    "for i in range(n):\n",
    "    word_1, word_2 = input().split()\n",
    "    if len(word_1)!= len(word_2):\n",
    "        res += 'NO' + \" \"\n",
    "        break\n",
    "    else:\n",
    "        ans = \"YES\" + \" \"\n",
    "        for each_char in word_1:\n",
    "            if word_1.count(each_char) != word_2.count(each_char):\n",
    "                ans = \"NO\" + \" \"\n",
    "    res += ans            \n",
    "print(res)"
   ]
  },
  {
   "cell_type": "code",
   "execution_count": 1,
   "id": "19847705",
   "metadata": {},
   "outputs": [
    {
     "name": "stdout",
     "output_type": "stream",
     "text": [
      "2\n",
      "moon noon\n",
      "part trap\n",
      "NO YES \n"
     ]
    }
   ],
   "source": [
    "def check_for_rearrangement_of_letters(first_word, second_word):\n",
    "    if len(first_word) != len(second_word):\n",
    "        return \"NO\"\n",
    "    is_rearrangement_possible = \"YES\"\n",
    "    for each_letter in first_word:\n",
    "        if (first_word.count(each_letter) != second_word.count(each_letter)):\n",
    "            is_rearrangement_possible = \"NO\"\n",
    "            break\n",
    "    return is_rearrangement_possible\n",
    "\n",
    "def main():\n",
    "    test_cases = int(input())\n",
    "    result = \"\"\n",
    "    for i in range(test_cases):\n",
    "        first_word, second_word = input().split()\n",
    "        is_rearrangement_possible = check_for_rearrangement_of_letters(first_word, second_word)\n",
    "        result += is_rearrangement_possible + \" \"\n",
    "    print(result)\n",
    "    \n",
    "main()"
   ]
  },
  {
   "cell_type": "code",
   "execution_count": 3,
   "id": "1fa06965",
   "metadata": {},
   "outputs": [
    {
     "name": "stdout",
     "output_type": "stream",
     "text": [
      "1234\n",
      "['1234']\n"
     ]
    }
   ],
   "source": [
    "n = int(input())\n",
    "s = str(n).split()\n",
    "print(s)"
   ]
  },
  {
   "cell_type": "code",
   "execution_count": 9,
   "id": "239b07dc",
   "metadata": {},
   "outputs": [
    {
     "name": "stdout",
     "output_type": "stream",
     "text": [
      "0567\n",
      "210\n"
     ]
    }
   ],
   "source": [
    "num = int(input())\n",
    "str_num = str(num)\n",
    "length = len(str_num)\n",
    "product = 1\n",
    "for i in range(length):\n",
    "    if i == 0:\n",
    "        if str_num[i] != \"0\":\n",
    "            product = product*int(str_num[i])     \n",
    "    else:\n",
    "        product = product*int(str_num[i])\n",
    "print(product)        "
   ]
  },
  {
   "cell_type": "code",
   "execution_count": 11,
   "id": "300f38f7",
   "metadata": {},
   "outputs": [
    {
     "name": "stdout",
     "output_type": "stream",
     "text": [
      "0\n",
      "0\n"
     ]
    }
   ],
   "source": [
    "def product(num):\n",
    "    str_num = str(num)\n",
    "    length = len(str_num)\n",
    "    product = 1\n",
    "    for i in range(length):\n",
    "        if i == 0:\n",
    "            if str_num[i] != \"0\":\n",
    "                product = product*int(str_num[i])\n",
    "            else:\n",
    "                product = 0\n",
    "                break\n",
    "        else:\n",
    "            product = product*int(str_num[i])\n",
    "    return product \n",
    "\n",
    "num = int(input())\n",
    "res = product(num)\n",
    "print(res)"
   ]
  },
  {
   "cell_type": "code",
   "execution_count": 2,
   "id": "d9277d82",
   "metadata": {},
   "outputs": [
    {
     "data": {
      "text/plain": [
       "'Chris Alan'"
      ]
     },
     "execution_count": 2,
     "metadata": {},
     "output_type": "execute_result"
    }
   ],
   "source": [
    "import string\n",
    "a = \"chris alan\"\n",
    "string.capwords(a)"
   ]
  },
  {
   "cell_type": "code",
   "execution_count": 5,
   "id": "83308379",
   "metadata": {},
   "outputs": [
    {
     "name": "stdout",
     "output_type": "stream",
     "text": [
      "Hello World Lol\n"
     ]
    }
   ],
   "source": [
    "s = \"hello   world  lol\"\n",
    "s = ' '.join(word[0].upper() + word[1:] for word in s.split())\n",
    "print(s)"
   ]
  },
  {
   "cell_type": "code",
   "execution_count": 1,
   "id": "f9bf069f",
   "metadata": {},
   "outputs": [
    {
     "ename": "IndexError",
     "evalue": "string index out of range",
     "output_type": "error",
     "traceback": [
      "\u001b[1;31m---------------------------------------------------------------------------\u001b[0m",
      "\u001b[1;31mIndexError\u001b[0m                                Traceback (most recent call last)",
      "Input \u001b[1;32mIn [1]\u001b[0m, in \u001b[0;36m<cell line: 2>\u001b[1;34m()\u001b[0m\n\u001b[0;32m      1\u001b[0m s \u001b[38;5;241m=\u001b[39m \u001b[38;5;124m\"\u001b[39m\u001b[38;5;124mhello   world  lol\u001b[39m\u001b[38;5;124m\"\u001b[39m\n\u001b[1;32m----> 2\u001b[0m s \u001b[38;5;241m=\u001b[39m \u001b[38;5;124;43m'\u001b[39;49m\u001b[38;5;124;43m \u001b[39;49m\u001b[38;5;124;43m'\u001b[39;49m\u001b[38;5;241;43m.\u001b[39;49m\u001b[43mjoin\u001b[49m\u001b[43m(\u001b[49m\u001b[43mword\u001b[49m\u001b[43m[\u001b[49m\u001b[38;5;241;43m0\u001b[39;49m\u001b[43m]\u001b[49m\u001b[38;5;241;43m.\u001b[39;49m\u001b[43mupper\u001b[49m\u001b[43m(\u001b[49m\u001b[43m)\u001b[49m\u001b[43m \u001b[49m\u001b[38;5;241;43m+\u001b[39;49m\u001b[43m \u001b[49m\u001b[43mword\u001b[49m\u001b[43m[\u001b[49m\u001b[38;5;241;43m1\u001b[39;49m\u001b[43m:\u001b[49m\u001b[43m]\u001b[49m\u001b[43m \u001b[49m\u001b[38;5;28;43;01mfor\u001b[39;49;00m\u001b[43m \u001b[49m\u001b[43mword\u001b[49m\u001b[43m \u001b[49m\u001b[38;5;129;43;01min\u001b[39;49;00m\u001b[43m \u001b[49m\u001b[43ms\u001b[49m\u001b[38;5;241;43m.\u001b[39;49m\u001b[43msplit\u001b[49m\u001b[43m(\u001b[49m\u001b[38;5;124;43m\"\u001b[39;49m\u001b[38;5;124;43m \u001b[39;49m\u001b[38;5;124;43m\"\u001b[39;49m\u001b[43m)\u001b[49m\u001b[43m)\u001b[49m\n\u001b[0;32m      3\u001b[0m \u001b[38;5;28mprint\u001b[39m(s)\n",
      "Input \u001b[1;32mIn [1]\u001b[0m, in \u001b[0;36m<genexpr>\u001b[1;34m(.0)\u001b[0m\n\u001b[0;32m      1\u001b[0m s \u001b[38;5;241m=\u001b[39m \u001b[38;5;124m\"\u001b[39m\u001b[38;5;124mhello   world  lol\u001b[39m\u001b[38;5;124m\"\u001b[39m\n\u001b[1;32m----> 2\u001b[0m s \u001b[38;5;241m=\u001b[39m \u001b[38;5;124m'\u001b[39m\u001b[38;5;124m \u001b[39m\u001b[38;5;124m'\u001b[39m\u001b[38;5;241m.\u001b[39mjoin(\u001b[43mword\u001b[49m\u001b[43m[\u001b[49m\u001b[38;5;241;43m0\u001b[39;49m\u001b[43m]\u001b[49m\u001b[38;5;241m.\u001b[39mupper() \u001b[38;5;241m+\u001b[39m word[\u001b[38;5;241m1\u001b[39m:] \u001b[38;5;28;01mfor\u001b[39;00m word \u001b[38;5;129;01min\u001b[39;00m s\u001b[38;5;241m.\u001b[39msplit(\u001b[38;5;124m\"\u001b[39m\u001b[38;5;124m \u001b[39m\u001b[38;5;124m\"\u001b[39m))\n\u001b[0;32m      3\u001b[0m \u001b[38;5;28mprint\u001b[39m(s)\n",
      "\u001b[1;31mIndexError\u001b[0m: string index out of range"
     ]
    }
   ],
   "source": [
    "s = \"hello   world  lol\"\n",
    "s = ' '.join(word[0].upper() + word[1:] for word in s.split(\" \"))\n",
    "print(s)"
   ]
  },
  {
   "cell_type": "code",
   "execution_count": null,
   "id": "44a3b9a9",
   "metadata": {},
   "outputs": [],
   "source": [
    "#!/bin/python3\n",
    "\n",
    "import math\n",
    "import os\n",
    "import random\n",
    "import re\n",
    "import sys\n",
    "\n",
    "# Complete the solve function below.\n",
    "def solve(s):\n",
    "    s = \" \".join(word[0].upper() + word[1:] for word in s.split())\n",
    "    return s\n",
    "\n",
    "if __name__ == '__main__':\n",
    "    fptr = open(os.environ['OUTPUT_PATH'], 'w')\n",
    "\n",
    "    s = input()\n",
    "\n",
    "    result = solve(s)\n",
    "\n",
    "    fptr.write(result + '\\n')\n",
    "\n",
    "    fptr.close()\n"
   ]
  },
  {
   "cell_type": "code",
   "execution_count": null,
   "id": "b0975055",
   "metadata": {},
   "outputs": [],
   "source": [
    "hello   world  lol"
   ]
  },
  {
   "cell_type": "code",
   "execution_count": 6,
   "id": "648d8fb5",
   "metadata": {},
   "outputs": [
    {
     "data": {
      "text/plain": [
       "'Hello World Lol'"
      ]
     },
     "execution_count": 6,
     "metadata": {},
     "output_type": "execute_result"
    }
   ],
   "source": [
    "import string\n",
    "a = \"hello   world  lol\"\n",
    "string.capwords(a)"
   ]
  },
  {
   "cell_type": "code",
   "execution_count": null,
   "id": "8d36ac27",
   "metadata": {},
   "outputs": [],
   "source": [
    "s = s.split()\n",
    "new_word = \"\"\n",
    "for i in range(len(s)):\n",
    "    if s[i].isalpha():\n",
    "        new"
   ]
  },
  {
   "cell_type": "code",
   "execution_count": 8,
   "id": "b912e0ab",
   "metadata": {},
   "outputs": [
    {
     "name": "stdout",
     "output_type": "stream",
     "text": [
      "hello  world  is\n"
     ]
    },
    {
     "data": {
      "text/plain": [
       "'Hello  World  Is'"
      ]
     },
     "execution_count": 8,
     "metadata": {},
     "output_type": "execute_result"
    }
   ],
   "source": [
    "def cap_sentence(s):\n",
    "    return ' '.join(w[:1].upper() + w[1:] for w in s.split(' '))\n",
    "\n",
    "s = input()\n",
    "cap_sentence(s)"
   ]
  },
  {
   "cell_type": "code",
   "execution_count": 11,
   "id": "c2e938b2",
   "metadata": {},
   "outputs": [
    {
     "name": "stdout",
     "output_type": "stream",
     "text": [
      "double  space are  tested\n",
      "Double  Space Are  Tested\n"
     ]
    }
   ],
   "source": [
    "# s = \"hai  double space are  tested\"\n",
    "s = input()\n",
    "new_word = \" \".join(word[:1].upper() + word[1:] for word in s.split(\" \"))\n",
    "print(new_word)"
   ]
  },
  {
   "cell_type": "code",
   "execution_count": 14,
   "id": "3c14ad92",
   "metadata": {},
   "outputs": [
    {
     "name": "stdout",
     "output_type": "stream",
     "text": [
      "D\n",
      "\n",
      "S\n",
      "A\n",
      "\n",
      "T\n"
     ]
    }
   ],
   "source": [
    "s = \"Double  Space Are  Tested\"\n",
    "for word in s.split(\" \"):\n",
    "    print(word[:1])"
   ]
  },
  {
   "cell_type": "code",
   "execution_count": 7,
   "id": "41a4ab30",
   "metadata": {},
   "outputs": [
    {
     "ename": "KeyError",
     "evalue": "'OUTPUT_PATH'",
     "output_type": "error",
     "traceback": [
      "\u001b[1;31m---------------------------------------------------------------------------\u001b[0m",
      "\u001b[1;31mKeyError\u001b[0m                                  Traceback (most recent call last)",
      "Input \u001b[1;32mIn [7]\u001b[0m, in \u001b[0;36m<cell line: 16>\u001b[1;34m()\u001b[0m\n\u001b[0;32m     14\u001b[0m     \u001b[38;5;28;01mreturn\u001b[39;00m new_word\n\u001b[0;32m     16\u001b[0m \u001b[38;5;28;01mif\u001b[39;00m \u001b[38;5;18m__name__\u001b[39m \u001b[38;5;241m==\u001b[39m \u001b[38;5;124m'\u001b[39m\u001b[38;5;124m__main__\u001b[39m\u001b[38;5;124m'\u001b[39m:\n\u001b[1;32m---> 17\u001b[0m     fptr \u001b[38;5;241m=\u001b[39m \u001b[38;5;28mopen\u001b[39m(\u001b[43mos\u001b[49m\u001b[38;5;241;43m.\u001b[39;49m\u001b[43menviron\u001b[49m\u001b[43m[\u001b[49m\u001b[38;5;124;43m'\u001b[39;49m\u001b[38;5;124;43mOUTPUT_PATH\u001b[39;49m\u001b[38;5;124;43m'\u001b[39;49m\u001b[43m]\u001b[49m, \u001b[38;5;124m'\u001b[39m\u001b[38;5;124mw\u001b[39m\u001b[38;5;124m'\u001b[39m)\n\u001b[0;32m     19\u001b[0m     s \u001b[38;5;241m=\u001b[39m \u001b[38;5;28minput\u001b[39m()\n\u001b[0;32m     21\u001b[0m     result \u001b[38;5;241m=\u001b[39m solve(s)\n",
      "File \u001b[1;32m~\\anaconda3\\lib\\os.py:679\u001b[0m, in \u001b[0;36m_Environ.__getitem__\u001b[1;34m(self, key)\u001b[0m\n\u001b[0;32m    676\u001b[0m     value \u001b[38;5;241m=\u001b[39m \u001b[38;5;28mself\u001b[39m\u001b[38;5;241m.\u001b[39m_data[\u001b[38;5;28mself\u001b[39m\u001b[38;5;241m.\u001b[39mencodekey(key)]\n\u001b[0;32m    677\u001b[0m \u001b[38;5;28;01mexcept\u001b[39;00m \u001b[38;5;167;01mKeyError\u001b[39;00m:\n\u001b[0;32m    678\u001b[0m     \u001b[38;5;66;03m# raise KeyError with the original key value\u001b[39;00m\n\u001b[1;32m--> 679\u001b[0m     \u001b[38;5;28;01mraise\u001b[39;00m \u001b[38;5;167;01mKeyError\u001b[39;00m(key) \u001b[38;5;28;01mfrom\u001b[39;00m \u001b[38;5;28mNone\u001b[39m\n\u001b[0;32m    680\u001b[0m \u001b[38;5;28;01mreturn\u001b[39;00m \u001b[38;5;28mself\u001b[39m\u001b[38;5;241m.\u001b[39mdecodevalue(value)\n",
      "\u001b[1;31mKeyError\u001b[0m: 'OUTPUT_PATH'"
     ]
    }
   ],
   "source": [
    "#!/bin/python3\n",
    "\n",
    "import math\n",
    "import os\n",
    "import random\n",
    "import re\n",
    "import sys\n",
    "\n",
    "# Complete the solve function below.\n",
    "# import string\n",
    "\n",
    "def solve(s):\n",
    "    new_word = \" \".join(word[:1].upper() + word[1:] for word in s.split(\" \"))\n",
    "    return new_word\n",
    "\n",
    "if __name__ == '__main__':\n",
    "    fptr = open(os.environ['OUTPUT_PATH'], 'w')\n",
    "\n",
    "    s = input()\n",
    "\n",
    "    result = solve(s)\n",
    "\n",
    "    fptr.write(result + '\\n')\n",
    "\n",
    "    fptr.close()\n"
   ]
  },
  {
   "cell_type": "code",
   "execution_count": 3,
   "id": "ce905650",
   "metadata": {},
   "outputs": [
    {
     "name": "stdout",
     "output_type": "stream",
     "text": [
      "John#Peter#Vicky\n"
     ]
    }
   ],
   "source": [
    "myTuple = (\"John\", \"Peter\", \"Vicky\")\n",
    "\n",
    "x = \"#\".join(myTuple)\n",
    "\n",
    "print(x)"
   ]
  },
  {
   "cell_type": "code",
   "execution_count": 4,
   "id": "3e449a47",
   "metadata": {},
   "outputs": [
    {
     "name": "stdout",
     "output_type": "stream",
     "text": [
      "nameTESTcountry\n"
     ]
    }
   ],
   "source": [
    "myDict = {\"name\": \"John\", \"country\": \"Norway\"}\n",
    "mySeparator = \"TEST\"\n",
    "\n",
    "x = mySeparator.join(myDict)\n",
    "\n",
    "print(x)"
   ]
  },
  {
   "cell_type": "code",
   "execution_count": 5,
   "id": "aaa4466b",
   "metadata": {},
   "outputs": [
    {
     "name": "stdout",
     "output_type": "stream",
     "text": [
      "1-2-3-4\n"
     ]
    }
   ],
   "source": [
    "# elements in tuples\n",
    "list1 = ('1', '2', '3', '4')\n",
    " \n",
    "# put any character to join\n",
    "s = \"-\"\n",
    " \n",
    "# joins elements of list1 by '-'\n",
    "# and stores in string s\n",
    "s = s.join(list1)\n",
    " \n",
    "# join use to join a list of\n",
    "# strings to a separator s\n",
    "print(s)"
   ]
  },
  {
   "cell_type": "code",
   "execution_count": 6,
   "id": "40027d1d",
   "metadata": {},
   "outputs": [
    {
     "name": "stdout",
     "output_type": "stream",
     "text": [
      "geeks\n",
      " $g$e$e$k$s$ \n"
     ]
    }
   ],
   "source": [
    "# Joining with empty separator\n",
    "list1 = ['g', 'e', 'e', 'k', 's']\n",
    "print(\"\".join(list1))\n",
    " \n",
    "# Joining with string\n",
    "list1 = \" geeks \"\n",
    "print(\"$\".join(list1))"
   ]
  },
  {
   "cell_type": "code",
   "execution_count": 11,
   "id": "25438b75",
   "metadata": {},
   "outputs": [
    {
     "name": "stdout",
     "output_type": "stream",
     "text": [
      "A\n",
      "3\n",
      "N\n",
      "2\n",
      "B\n",
      "1\n",
      "3 3\n"
     ]
    }
   ],
   "source": [
    "word = \"BANANA\"\n",
    "Stuart_score = 0\n",
    "Kevin_score = 0\n",
    "vowels = (\"A\", \"E\", \"I\", \"O\", \"U\")\n",
    "for letter in set(word):\n",
    "    if letter not in vowels:\n",
    "        for i in range(len(word)):\n",
    "            sub_string = word[]\n",
    "        print(letter)\n",
    "        word_count_score = word.count(letter)\n",
    "        print(word_count_score)\n",
    "        Stuart_score += word_count_score\n",
    "    elif letter in vowels:\n",
    "        print(letter)\n",
    "        word_count_score = word.count(letter)\n",
    "        print(word_count_score)\n",
    "        Kevin_score += word_count_score\n",
    "print(\"{} {}\".format(Stuart_score, Kevin_score))    "
   ]
  },
  {
   "cell_type": "code",
   "execution_count": 8,
   "id": "1e99c138",
   "metadata": {},
   "outputs": [
    {
     "name": "stdout",
     "output_type": "stream",
     "text": [
      "Stuart 12\n"
     ]
    }
   ],
   "source": [
    "word = \"BANANA\"\n",
    "Stuart_score = 0\n",
    "Kevin_score = 0\n",
    "vowels = (\"A\", \"E\", \"I\", \"O\", \"U\")\n",
    "word_list = []\n",
    "for i in range(len(word)):\n",
    "    for j in range(1, len(word)+1):\n",
    "        #substring formed with each letter as starting letter of a new word formed\n",
    "        sub_word = word[i:j]\n",
    "        word_list.append(sub_word)\n",
    "# print(word_list)        \n",
    "# set removes duplicates, filter removes empty strings in list\n",
    "set_word_list = set(list(filter(None, word_list))) \n",
    "#score based on consonant or vowel starting letter \n",
    "for item in set_word_list:\n",
    "    if item[0] not in vowels:\n",
    "        word_count_score = word_list.count(item)\n",
    "        Stuart_score += word_count_score\n",
    "    else:\n",
    "        word_count_score = word_list.count(item)\n",
    "        Kevin_score += word_count_score\n",
    "# printing the winner Score and name \n",
    "if Stuart_score > Kevin_score:\n",
    "    name = \"Stuart\"\n",
    "    score = Stuart_score\n",
    "else:\n",
    "    name = \"Kevin\"\n",
    "    score = Kevin_score\n",
    "print(\"{} {}\".format(name, score))           "
   ]
  },
  {
   "cell_type": "code",
   "execution_count": null,
   "id": "563c0fc2",
   "metadata": {},
   "outputs": [],
   "source": [
    "word = \"BANANA\"\n",
    "length = len(word)\n",
    "for i range(length):\n",
    "    if word[i] "
   ]
  },
  {
   "cell_type": "code",
   "execution_count": null,
   "id": "74766157",
   "metadata": {},
   "outputs": [],
   "source": [
    "string = 'abcdcdc'\n",
    "sub_string = 'cdc'\n",
    "count = 0\n",
    "for i in range(len(string)):\n",
    "    slice_string = string[i:i+len(sub_string)]\n",
    "    if slice_string == sub_string:\n",
    "        count += 1 \n",
    "print(count)\n"
   ]
  },
  {
   "cell_type": "code",
   "execution_count": null,
   "id": "fe057271",
   "metadata": {},
   "outputs": [
    {
     "name": "stdout",
     "output_type": "stream",
     "text": [
      "NANANNANANNANANNANANNANANNANANNANANNANANNANANNANANNANANNANANNANANNANANNANANNANANNANANNANANNANANNANANNANANNANANNANANNANANNANANNANANNANANNANANNANANNANANNANANNANANNANANNANANNANANNANANNANANNANANNANANNANANNANANNANANNANANNANANNANANNANANNANANNANANNANANNANANNANANNANANNANANNANANNANANNANANNANANNANANNANANNANANNANANNANANNANANNANANNANANNANANNANANNANANNANANNANANNANANNANANNANANNANANNANANNANANNANANNANANNANANNANANNANANNANANNANANNANANNANANNANANNANANNANANNANANNANANNANANNANANNANANNANANNANANNANANNANANNANANNANANNANANNANANNANANNANANNANANNANANNANANNANANNANANNANANNANANNANANNANANNANANNANANNANANNANANNANANNANANNANANNANANNANANNANANNANANNANANNANANNANANNANANNANANNANANNANANNANANNANANNANANNANANNANANNANANNANANNANANNANANNANANNANANNANANNANANNANANNANANNANANNANANNANANNANANNANANNANANNANANNANANNANANNANANNANANNANANNANANNANANNANANNANANNANANNANANNANANNANANNANANNANANNANANNANANNANANNANANNANANNANANNANANNANANNANANNANANNANANNANANNANANNANANNANANNANANNANANNANANNANANNANANNANANNANANNANANNANANNANANNANANNANANNANANNANANNANANNANANNANANNANANNANANNANANNANANNANANNANANNANANNANANNANANNANANNANANNANANNANANNANANNANANNANANNANANNANANNANANNANANNANANNANANNANANNANANNANANNANANNANANNANANNANANNANANNANANNANANNANANNANANNANANNANANNANANNANANNANANNANANNANANNANANNANANNANANNANANNANANNANANNANANNANANNANANNANANNANANNANANNANANNANANNANANNANANNANANNANANNANANNANANNANANNANANNANANNANANNANANNANANNANANNANANNANANNANANNANANNANANNANANNANANNANANNANANNANANNANANNANANNANANNANANNANANNANANNANANNANANNANANNANANNANANNANANNANANNANANNANANNANANNANANNANANNANANNANANNANANNANANNANANNANANNANANNANANNANANNANANNANANNANANNANANNANANNANANNANANNANANNANANNANANNANANNANANNANANNANANNANANNANANNANANNANANNANANNANANNANANNANANNANANNANANNANANNANANNANANNANANNANANNANANNANANNANANNANANNANANNANANNANANNANANNANANNANANNANANNANANNANANNANANNANANNANANNANANNANANNANANNANANNANANNANANNANANNANANNANANNANANNANANNANANNANANNANANNANANNANANNANANNANANNANANNANANNANANNANANNANANNANANNANANNANANNANANNANANNANANNANANNANANNANANNANANNANANNANANNANANNANANNANANNANANNANANNANANNANANNANANNANANNANANNANANNANANNANANNANANNANANNANANNANANNANANNANANNANANNANANNANANNANANNANANNANANNANANNANANNANANNANANNANANNANANNANANNANANNANANNANANNANANNANANNANANNANANNANANNANANNANANNANANNANANNANANNANANNANANNANANNANANNANANNANANNANANNANANNANANNANANNANANNANANNANANNANANNANANNANANNANANNANANNANANNANANNANANNANANNANANNANANNANANNANANNANANNANANNANANNANANNANANNANANNANANNANANNANANNANANNANANNANANNANANNANANNANANNANANNANANNANANNANANNANANNANANNANANNANANNANANNANANNANANNANANNANANNANANNANANNANANNANANNANANNANANNANANNANANNANANNANANNANANNANANNANANNANANNANANNANANNANANNANANNANANNANANNANANNANANNANANNANANNANANNANANNANANNANANNANANNANANNANANNANANNANANNANANNANANNANANNANANNANANNANANNANANNANANNANANNANANNANANNANANNANANNANANNANANNANANNANANNANANNANANNANANNANANNANANNANANNANANNANANNANANNANANNANANNANANNANANNANANNANANNANANNANANNANANNANANNANANNANANNANANNANANNANANNANANNANANNANANNANANNANANNANANNANANNANANNANANNANANNANANNANANNANANNANANNANANNANANNANANNANANNANANNANANNANANNANANNANANNANANNANANNANANNANANNANANNANANNANANNANANNANANNANANNANANNANANNANANNANANNANANNANANNANANNANANNANANNANANNANANNANANNANANNANANNANANNANANNANANNANANNANANNANANNANANNANANNANANNANANNANANNANANNANANNANANNANANNANANNANANNANANNANANNANANNANANNANANNANANNANANNANANNANANNANANNANANNANANNANANNANANNANANNANANNANANNANANNANANNANANNANANNANANNANANNANANNANANNANANNANANNANANNANANNANANNANANNANANNANANNANANNANANNANANNANANNANANNANANNANANNANANNANANNANANNANANNANANNANANNANANNANANNANANNANANNANANNANANNANANNANANNANANNANANNANANNANANNANANNANANNANANNANANNANANNANANNANANNANANNANANNANANNANANNANANNANANNANANNANANNANANNANANNANANNANANNANANNANANNANANNANANNANANNANANNANANNANANNANANNANANNANANNANANNANANNANANNANANNANANNANANNANANNANANNANANNANANNANANNANANNANANNANANNANANNANANNANANNANANNANANNANANNANANNANANNANANNANANNANANNANANNANANNANANNANANNANANNANANNANANNANANNANANNANANNANANNANANNANANNANANNANANNANANNANANNANANNANANNANANNANANNANANNANANNANANNANANNANANNANANNANANNANANNANANNANANNANANNANANNANANNANANNANANNANANNANANNANANNANANNANANNANANNANANNANANNANANNANANNANANNANANNANANNANANNANANNANANNANANNANANNANANNANANNANANNANANNANANNANANNANANNANANNANANNANANNANANNANANNANANNANANNANANNANANNANANNANANNANANNANANNANANNANANNANANNANANNANANNANANNANANNANANNANANNANANNANANNANANNANANNANANNANANNANANNANANNANANNANANNANANNANANNANANNANANNANANNANANNANANNANANNANANNANANNANANNANANNANANNANANNANANNANANNANANNANANNANANNANANNANANNANANNANANNANANNANANNANANNANANNANANNANANNANANNANANNANANNANANNANANNANANNANANNANANNANANNANANNANANNANANNANANNANANNANANNANANNANANNANANNANANNANANNANANNANANNANANNANANNANANNANANNANANNANANNANANNANANNANANNANANNANANNANANNANANNANANNANANNANANNANANNANANNANANNANANNANANNANANNANANNANANNANANNANANNANANNANANNANANNANANNANANNANANNANANNANANNANANNANANNANANNANANNANANNANANNANANNANANNANANNANANNANANNANANNANANNANANNANANNANANNANANNANANNANANNANANNANANNANANNANANNANANNANANNANANNANANNANANNANANNANANNANANNANANNANANNANANNANANNANANNANANNANANNANANNANANNANANNANANNANANNANANNANANNANANNANANNANANNANANNANANNANANNANANNANANNANANNANANNANANNANANNANANNANANNANANNANANNANANNANANNANANNANANNANANNANANNANANNANANNANANNANANNANANNANANNANANNANANNANANNANANNANANNANANNANANNANANNANANNANANNANANNANANNANANNANANNANAN\n"
     ]
    }
   ],
   "source": [
    "def minion_game(word):\n",
    "    Stuart_score = 0\n",
    "    Kevin_score = 0\n",
    "    vowels = (\"A\", \"E\", \"I\", \"O\", \"U\")\n",
    "    word_list = []\n",
    "    for i in range(len(word)):\n",
    "        for j in range(1, len(word)+1):\n",
    "            #substring formed with each letter as starting letter of a new word formed\n",
    "            sub_word = word[i:j]\n",
    "            word_list.append(sub_word)\n",
    "    # print(word_list)        \n",
    "    # set removes duplicates, filter removes empty strings in list\n",
    "    set_word_list = set(list(filter(None, word_list))) \n",
    "    #score based on consonant or vowel starting letter \n",
    "    for item in set_word_list:\n",
    "        if item[0] not in vowels:\n",
    "            word_count_score = word_list.count(item)\n",
    "            Stuart_score += word_count_score\n",
    "        else:\n",
    "            word_count_score = word_list.count(item)\n",
    "            Kevin_score += word_count_score\n",
    "    # printing the winner Score and name \n",
    "    if Stuart_score > Kevin_score:\n",
    "        name = \"Stuart\"\n",
    "        score = str(Stuart_score)\n",
    "        res = name + \" \" + score\n",
    "    elif Stuart_score == Kevin_score: \n",
    "        res = \"Draw\"\n",
    "    else:\n",
    "        name = \"Kevin\"\n",
    "        score = str(Kevin_score)\n",
    "        res = name + \" \" + score\n",
    "    print(res)\n",
    "    \n",
    "s = input()\n",
    "minion_game(s)    "
   ]
  },
  {
   "cell_type": "code",
   "execution_count": 2,
   "id": "61fa227f",
   "metadata": {},
   "outputs": [
    {
     "name": "stdout",
     "output_type": "stream",
     "text": [
      "BANANA\n",
      "Stuart 12\n"
     ]
    }
   ],
   "source": [
    "def minion_game(string):\n",
    "    vowels = 'AEIOU'\n",
    "    str_lenght = len(string)\n",
    "    kevin_score, stuart_score = 0, 0\n",
    "\n",
    "    for i in range(str_lenght):\n",
    "        if string[i] in vowels:\n",
    "            kevin_score += (str_lenght - i)\n",
    "        else:\n",
    "            stuart_score += (str_lenght - i)\n",
    "\n",
    "    if kevin_score > stuart_score:\n",
    "        print(\"Kevin\", kevin_score)\n",
    "    elif kevin_score < stuart_score:\n",
    "        print(\"Stuart\", stuart_score)\n",
    "    else:\n",
    "        print(\"Draw\")\n",
    "\n",
    "\n",
    "if __name__ == '__main__':\n",
    "    s = input()\n",
    "    minion_game(s)"
   ]
  },
  {
   "cell_type": "code",
   "execution_count": 4,
   "id": "2902792e",
   "metadata": {},
   "outputs": [
    {
     "name": "stdout",
     "output_type": "stream",
     "text": [
      "NANANNANANNANANNANANNANANNANANNANANNANANNANANNANANNANANNANANNANANNANANNANANNANANNANANNANANNANANNANANNANANNANANNANANNANANNANANNANANNANANNANANNANANNANANNANANNANANNANANNANANNANANNANANNANANNANANNANANNANANNANANNANANNANANNANANNANANNANANNANANNANANNANANNANANNANANNANANNANANNANANNANANNANANNANANNANANNANANNANANNANANNANANNANANNANANNANANNANANNANANNANANNANANNANANNANANNANANNANANNANANNANANNANANNANANNANANNANANNANANNANANNANANNANANNANANNANANNANANNANANNANANNANANNANANNANANNANANNANANNANANNANANNANANNANANNANANNANANNANANNANANNANANNANANNANANNANANNANANNANANNANANNANANNANANNANANNANANNANANNANANNANANNANANNANANNANANNANANNANANNANANNANANNANANNANANNANANNANANNANANNANANNANANNANANNANANNANANNANANNANANNANANNANANNANANNANANNANANNANANNANANNANANNANANNANANNANANNANANNANANNANANNANANNANANNANANNANANNANANNANANNANANNANANNANANNANANNANANNANANNANANNANANNANANNANANNANANNANANNANANNANANNANANNANANNANANNANANNANANNANANNANANNANANNANANNANANNANANNANANNANANNANANNANANNANANNANANNANANNANANNANANNANANNANANNANANNANANNANANNANANNANANNANANNANANNANANNANANNANANNANANNANANNANANNANANNANANNANANNANANNANANNANANNANANNANANNANANNANANNANANNANANNANANNANANNANANNANANNANANNANANNANANNANANNANANNANANNANANNANANNANANNANANNANANNANANNANANNANANNANANNANANNANANNANANNANANNANANNANANNANANNANANNANANNANANNANANNANANNANANNANANNANANNANANNANANNANANNANANNANANNANANNANANNANANNANANNANANNANANNANANNANANNANANNANANNANANNANANNANANNANANNANANNANANNANANNANANNANANNANANNANANNANANNANANNANANNANANNANANNANANNANANNANANNANANNANANNANANNANANNANANNANANNANANNANANNANANNANANNANANNANANNANANNANANNANANNANANNANANNANANNANANNANANNANANNANANNANANNANANNANANNANANNANANNANANNANANNANANNANANNANANNANANNANANNANANNANANNANANNANANNANANNANANNANANNANANNANANNANANNANANNANANNANANNANANNANANNANANNANANNANANNANANNANANNANANNANANNANANNANANNANANNANANNANANNANANNANANNANANNANANNANANNANANNANANNANANNANANNANANNANANNANANNANANNANANNANANNANANNANANNANANNANANNANANNANANNANANNANANNANANNANANNANANNANANNANANNANANNANANNANANNANANNANANNANANNANANNANANNANANNANANNANANNANANNANANNANANNANANNANANNANANNANANNANANNANANNANANNANANNANANNANANNANANNANANNANANNANANNANANNANANNANANNANANNANANNANANNANANNANANNANANNANANNANANNANANNANANNANANNANANNANANNANANNANANNANANNANANNANANNANANNANANNANANNANANNANANNANANNANANNANANNANANNANANNANANNANANNANANNANANNANANNANANNANANNANANNANANNANANNANANNANANNANANNANANNANANNANANNANANNANANNANANNANANNANANNANANNANANNANANNANANNANANNANANNANANNANANNANANNANANNANANNANANNANANNANANNANANNANANNANANNANANNANANNANANNANANNANANNANANNANANNANANNANANNANANNANANNANANNANANNANANNANANNANANNANANNANANNANANNANANNANANNANANNANANNANANNANANNANANNANANNANANNANANNANANNANANNANANNANANNANANNANANNANANNANANNANANNANANNANANNANANNANANNANANNANANNANANNANANNANANNANANNANANNANANNANANNANANNANANNANANNANANNANANNANANNANANNANANNANANNANANNANANNANANNANANNANANNANANNANANNANANNANANNANANNANANNANANNANANNANANNANANNANANNANANNANANNANANNANANNANANNANANNANANNANANNANANNANANNANANNANANNANANNANANNANANNANANNANANNANANNANANNANANNANANNANANNANANNANANNANANNANANNANANNANANNANANNANANNANANNANANNANANNANANNANANNANANNANANNANANNANANNANANNANANNANANNANANNANANNANANNANANNANANNANANNANANNANANNANANNANANNANANNANANNANANNANANNANANNANANNANANNANANNANANNANANNANANNANANNANANNANANNANANNANANNANANNANANNANANNANANNANANNANANNANANNANANNANANNANANNANANNANANNANANNANANNANANNANANNANANNANANNANANNANANNANANNANANNANANNANANNANANNANANNANANNANANNANANNANANNANANNANANNANANNANANNANANNANANNANANNANANNANANNANANNANANNANANNANANNANANNANANNANANNANANNANANNANANNANANNANANNANANNANANNANANNANANNANANNANANNANANNANANNANANNANANNANANNANANNANANNANANNANANNANANNANANNANANNANANNANANNANANNANANNANANNANANNANANNANANNANANNANANNANANNANANNANANNANANNANANNANANNANANNANANNANANNANANNANANNANANNANANNANANNANANNANANNANANNANANNANANNANANNANANNANANNANANNANANNANANNANANNANANNANANNANANNANANNANANNANANNANANNANANNANANNANANNANANNANANNANANNANANNANANNANANNANANNANANNANANNANANNANANNANANNANANNANANNANANNANANNANANNANANNANANNANANNANANNANANNANANNANANNANANNANANNANANNANANNANANNANANNANANNANANNANANNANANNANANNANANNANANNANANNANANNANANNANANNANANNANANNANANNANANNANANNANANNANANNANANNANANNANANNANANNANANNANANNANANNANANNANANNANANNANANNANANNANANNANANNANANNANANNANANNANANNANANNANANNANANNANANNANANNANANNANANNANANNANANNANANNANANNANANNANANNANANNANANNANANNANANNANANNANANNANANNANANNANANNANANNANANNANANNANANNANANNANANNANANNANANNANANNANANNANANNANANNANANNANANNANANNANANNANANNANANNANANNANANNANANNANANNANANNANANNANANNANANNANANNANANNANANNANANNANANNANANNANANNANANNANANNANANNANANNANANNANANNANANNANANNANANNANANNANANNANANNANANNANANNANANNANANNANANNANANNANANNANANNANANNANANNANANNANANNANANNANANNANANNANANNANANNANANNANANNANANNANANNANANNANANNANANNANANNANANNANANNANANNANANNANANNANANNANANNANANNANANNANANNANANNANANNANANNANANNANANNANANNANANNANANNANANNANANNANANNANANNANANNANANNANANNANANNANANNANANNANANNANANNANANNANANNANANNANANNANANNANANNANANNANANNANANNANANNANANNANANNANANNANANNANANNANANNANANNANANNANANNANANNANANNANANNANANNANANNANANNANANNANANNANANNANANNANANNANANNANANNANANNANANNANANNANANNANANNANANNANANNANANNANANNANANNANANNANANNANANNANANNANANNANANNANANNANANNANANNANANNANANNANANNANANNANANNANANNANANNANANNANANNANANNANANNANANNANANNANANNANANNANANNANANNANANNANANNANANNANANNANANNANANNANANNANANNANANNANANNANANNANANNANANNANANNANANNANAN\n",
      "Stuart 7501500\n"
     ]
    }
   ],
   "source": [
    "def minion_game(word):\n",
    "    Stuart_score = 0\n",
    "    Kevin_score = 0\n",
    "    vowels = 'AEIOU'\n",
    "    for i in range(len(word)):\n",
    "        if word[i] in vowels:\n",
    "            Kevin_score += (len(word) - i)\n",
    "        else:\n",
    "            Stuart_score += (len(word) - i)\n",
    "\n",
    "    if Stuart_score > Kevin_score:\n",
    "        name = \"Stuart\"\n",
    "        score = str(Stuart_score)\n",
    "        res = name + \" \" + score\n",
    "    elif Stuart_score == Kevin_score: \n",
    "        res = \"Draw\"\n",
    "    else:\n",
    "        name = \"Kevin\"\n",
    "        score = str(Kevin_score)\n",
    "        res = name + \" \" + score\n",
    "    print(res)\n",
    "    \n",
    "s = input()\n",
    "minion_game(s)    "
   ]
  }
 ],
 "metadata": {
  "kernelspec": {
   "display_name": "Python 3 (ipykernel)",
   "language": "python",
   "name": "python3"
  },
  "language_info": {
   "codemirror_mode": {
    "name": "ipython",
    "version": 3
   },
   "file_extension": ".py",
   "mimetype": "text/x-python",
   "name": "python",
   "nbconvert_exporter": "python",
   "pygments_lexer": "ipython3",
   "version": "3.11.4"
  }
 },
 "nbformat": 4,
 "nbformat_minor": 5
}
